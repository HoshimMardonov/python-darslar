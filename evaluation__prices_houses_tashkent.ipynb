{
 "cells": [
  {
   "cell_type": "code",
   "execution_count": 1,
   "id": "9c51119a",
   "metadata": {
    "_cell_guid": "b1076dfc-b9ad-4769-8c92-a6c4dae69d19",
    "_uuid": "8f2839f25d086af736a60e9eeb907d3b93b6e0e5",
    "execution": {
     "iopub.execute_input": "2023-04-07T11:19:52.499655Z",
     "iopub.status.busy": "2023-04-07T11:19:52.499226Z",
     "iopub.status.idle": "2023-04-07T11:19:53.523098Z",
     "shell.execute_reply": "2023-04-07T11:19:53.522091Z"
    },
    "papermill": {
     "duration": 1.047989,
     "end_time": "2023-04-07T11:19:53.525587",
     "exception": false,
     "start_time": "2023-04-07T11:19:52.477598",
     "status": "completed"
    },
    "tags": []
   },
   "outputs": [],
   "source": [
    "import pandas as pd\n",
    "import numpy as np\n",
    "import sklearn # scikit-learn kutubxonasi\n",
    "import matplotlib.pyplot as plt\n",
    "import seaborn as sns"
   ]
  },
  {
   "cell_type": "code",
   "execution_count": 2,
   "id": "a0cb2cea",
   "metadata": {
    "execution": {
     "iopub.execute_input": "2023-04-07T11:19:53.564316Z",
     "iopub.status.busy": "2023-04-07T11:19:53.564016Z",
     "iopub.status.idle": "2023-04-07T11:19:53.886468Z",
     "shell.execute_reply": "2023-04-07T11:19:53.885233Z"
    },
    "papermill": {
     "duration": 0.344819,
     "end_time": "2023-04-07T11:19:53.888923",
     "exception": false,
     "start_time": "2023-04-07T11:19:53.544104",
     "status": "completed"
    },
    "tags": []
   },
   "outputs": [
    {
     "data": {
      "text/html": [
       "<div>\n",
       "<style scoped>\n",
       "    .dataframe tbody tr th:only-of-type {\n",
       "        vertical-align: middle;\n",
       "    }\n",
       "\n",
       "    .dataframe tbody tr th {\n",
       "        vertical-align: top;\n",
       "    }\n",
       "\n",
       "    .dataframe thead th {\n",
       "        text-align: right;\n",
       "    }\n",
       "</style>\n",
       "<table border=\"1\" class=\"dataframe\">\n",
       "  <thead>\n",
       "    <tr style=\"text-align: right;\">\n",
       "      <th></th>\n",
       "      <th>location</th>\n",
       "      <th>district</th>\n",
       "      <th>rooms</th>\n",
       "      <th>size</th>\n",
       "      <th>level</th>\n",
       "      <th>max_levels</th>\n",
       "      <th>price</th>\n",
       "    </tr>\n",
       "  </thead>\n",
       "  <tbody>\n",
       "    <tr>\n",
       "      <th>0</th>\n",
       "      <td>город Ташкент, Юнусабадский район, Юнусабад 8-...</td>\n",
       "      <td>Юнусабадский</td>\n",
       "      <td>3</td>\n",
       "      <td>57</td>\n",
       "      <td>4</td>\n",
       "      <td>4</td>\n",
       "      <td>52000</td>\n",
       "    </tr>\n",
       "    <tr>\n",
       "      <th>1</th>\n",
       "      <td>город Ташкент, Яккасарайский район, 1-й тупик ...</td>\n",
       "      <td>Яккасарайский</td>\n",
       "      <td>2</td>\n",
       "      <td>52</td>\n",
       "      <td>4</td>\n",
       "      <td>5</td>\n",
       "      <td>56000</td>\n",
       "    </tr>\n",
       "    <tr>\n",
       "      <th>2</th>\n",
       "      <td>город Ташкент, Чиланзарский район, Чиланзар 2-...</td>\n",
       "      <td>Чиланзарский</td>\n",
       "      <td>2</td>\n",
       "      <td>42</td>\n",
       "      <td>4</td>\n",
       "      <td>4</td>\n",
       "      <td>37000</td>\n",
       "    </tr>\n",
       "    <tr>\n",
       "      <th>3</th>\n",
       "      <td>город Ташкент, Чиланзарский район, Чиланзар 9-...</td>\n",
       "      <td>Чиланзарский</td>\n",
       "      <td>3</td>\n",
       "      <td>65</td>\n",
       "      <td>1</td>\n",
       "      <td>4</td>\n",
       "      <td>49500</td>\n",
       "    </tr>\n",
       "    <tr>\n",
       "      <th>4</th>\n",
       "      <td>город Ташкент, Чиланзарский район, площадь Актепа</td>\n",
       "      <td>Чиланзарский</td>\n",
       "      <td>3</td>\n",
       "      <td>70</td>\n",
       "      <td>3</td>\n",
       "      <td>5</td>\n",
       "      <td>55000</td>\n",
       "    </tr>\n",
       "  </tbody>\n",
       "</table>\n",
       "</div>"
      ],
      "text/plain": [
       "                                            location       district  rooms  \\\n",
       "0  город Ташкент, Юнусабадский район, Юнусабад 8-...   Юнусабадский      3   \n",
       "1  город Ташкент, Яккасарайский район, 1-й тупик ...  Яккасарайский      2   \n",
       "2  город Ташкент, Чиланзарский район, Чиланзар 2-...   Чиланзарский      2   \n",
       "3  город Ташкент, Чиланзарский район, Чиланзар 9-...   Чиланзарский      3   \n",
       "4  город Ташкент, Чиланзарский район, площадь Актепа   Чиланзарский      3   \n",
       "\n",
       "  size  level  max_levels  price  \n",
       "0   57      4           4  52000  \n",
       "1   52      4           5  56000  \n",
       "2   42      4           4  37000  \n",
       "3   65      1           4  49500  \n",
       "4   70      3           5  55000  "
      ]
     },
     "execution_count": 2,
     "metadata": {},
     "output_type": "execute_result"
    }
   ],
   "source": [
    "df = pd.read_csv('https://raw.githubusercontent.com/anvarnarz/praktikum_datasets/main/housing_data_08-02-2021.csv')\n",
    "df.head()"
   ]
  },
  {
   "cell_type": "markdown",
   "id": "61b56c29",
   "metadata": {
    "papermill": {
     "duration": 0.01812,
     "end_time": "2023-04-07T11:19:53.926291",
     "exception": false,
     "start_time": "2023-04-07T11:19:53.908171",
     "status": "completed"
    },
    "tags": []
   },
   "source": [
    "<h1 style=\"color:white; padding: 20px; background-color: blue;\">Creating a model that predicts the prices of houses in Tashkent</h1>"
   ]
  },
  {
   "cell_type": "markdown",
   "id": "5b53cee5",
   "metadata": {
    "papermill": {
     "duration": 0.017983,
     "end_time": "2023-04-07T11:19:53.962457",
     "exception": false,
     "start_time": "2023-04-07T11:19:53.944474",
     "status": "completed"
    },
    "tags": []
   },
   "source": [
    "<h1 style=\"color:white; padding: 20px; background-color: green; display:inline-block\">Defining an analytical approach</h1>\n",
    "\n",
    "**Supervised learning** - because we have a label in the data. This is the median price in the area. We want to predict exactly this price.\n",
    "\n",
    "**Regression** - Did we say \"prediction\" (prognosis) is solved using regression algorithms\n",
    "\n",
    "**Offline** - because the data has already been given to us once. There is no constant data flow."
   ]
  },
  {
   "cell_type": "markdown",
   "id": "a71b2c5b",
   "metadata": {
    "papermill": {
     "duration": 0.017651,
     "end_time": "2023-04-07T11:19:53.997877",
     "exception": false,
     "start_time": "2023-04-07T11:19:53.980226",
     "status": "completed"
    },
    "tags": []
   },
   "source": [
    "<h1 style=\"color:white; padding: 20px; background-color: green; display:inline-block\">Data analys</h1>\n",
    "\n"
   ]
  },
  {
   "cell_type": "markdown",
   "id": "762635a5",
   "metadata": {
    "papermill": {
     "duration": 0.017901,
     "end_time": "2023-04-07T11:19:54.033627",
     "exception": false,
     "start_time": "2023-04-07T11:19:54.015726",
     "status": "completed"
    },
    "tags": []
   },
   "source": [
    "*  **location** - the address of the house for sale\n",
    "*  **district** - the district where the house is located\n",
    "*  **rooms** - the number of rooms\n",
    "*  **size** - house area (sq.m)\n",
    "*  **level** - the floor where the house is located\n",
    "*  **max_levels** - the total number of levels\n",
    "*  **price** - house price"
   ]
  },
  {
   "cell_type": "code",
   "execution_count": 3,
   "id": "f381bc6b",
   "metadata": {
    "execution": {
     "iopub.execute_input": "2023-04-07T11:19:54.071938Z",
     "iopub.status.busy": "2023-04-07T11:19:54.070748Z",
     "iopub.status.idle": "2023-04-07T11:19:54.093370Z",
     "shell.execute_reply": "2023-04-07T11:19:54.091529Z"
    },
    "papermill": {
     "duration": 0.044188,
     "end_time": "2023-04-07T11:19:54.095742",
     "exception": false,
     "start_time": "2023-04-07T11:19:54.051554",
     "status": "completed"
    },
    "tags": []
   },
   "outputs": [
    {
     "name": "stdout",
     "output_type": "stream",
     "text": [
      "<class 'pandas.core.frame.DataFrame'>\n",
      "RangeIndex: 7565 entries, 0 to 7564\n",
      "Data columns (total 7 columns):\n",
      " #   Column      Non-Null Count  Dtype \n",
      "---  ------      --------------  ----- \n",
      " 0   location    7565 non-null   object\n",
      " 1   district    7565 non-null   object\n",
      " 2   rooms       7565 non-null   int64 \n",
      " 3   size        7565 non-null   object\n",
      " 4   level       7565 non-null   int64 \n",
      " 5   max_levels  7565 non-null   int64 \n",
      " 6   price       7565 non-null   object\n",
      "dtypes: int64(3), object(4)\n",
      "memory usage: 413.8+ KB\n"
     ]
    }
   ],
   "source": [
    "df.info()"
   ]
  },
  {
   "cell_type": "markdown",
   "id": "a3447363",
   "metadata": {
    "papermill": {
     "duration": 0.018021,
     "end_time": "2023-04-07T11:19:54.132604",
     "exception": false,
     "start_time": "2023-04-07T11:19:54.114583",
     "status": "completed"
    },
    "tags": []
   },
   "source": [
    "Conclusions from the above result:\n",
    "\n",
    "*   The dataset consists of 7565 rows (each row is a separate house).\n",
    "*   Although the *size* and *price* columns are numerical, the data type of these columns is object\n",
    "\n",
    "We will analyze the *size* and *price* columns.\n",
    "we try to convert the size column to float64 data type."
   ]
  },
  {
   "cell_type": "code",
   "execution_count": 4,
   "id": "60b5df22",
   "metadata": {
    "execution": {
     "iopub.execute_input": "2023-04-07T11:19:54.170774Z",
     "iopub.status.busy": "2023-04-07T11:19:54.169776Z",
     "iopub.status.idle": "2023-04-07T11:19:54.174412Z",
     "shell.execute_reply": "2023-04-07T11:19:54.173374Z"
    },
    "papermill": {
     "duration": 0.025635,
     "end_time": "2023-04-07T11:19:54.176499",
     "exception": false,
     "start_time": "2023-04-07T11:19:54.150864",
     "status": "completed"
    },
    "tags": []
   },
   "outputs": [],
   "source": [
    "# df['size'].astype(\"float64\")"
   ]
  },
  {
   "cell_type": "markdown",
   "id": "774482d9",
   "metadata": {
    "papermill": {
     "duration": 0.017851,
     "end_time": "2023-04-07T11:19:54.212642",
     "exception": false,
     "start_time": "2023-04-07T11:19:54.194791",
     "status": "completed"
    },
    "tags": []
   },
   "source": [
    "As we can see, we have found that the wrong information named **\"Площадьземли:1сот\"** has been entered in the size column.\n",
    "\n",
    "Let's define this line"
   ]
  },
  {
   "cell_type": "code",
   "execution_count": 5,
   "id": "f882aff9",
   "metadata": {
    "execution": {
     "iopub.execute_input": "2023-04-07T11:19:54.252105Z",
     "iopub.status.busy": "2023-04-07T11:19:54.251149Z",
     "iopub.status.idle": "2023-04-07T11:19:54.263640Z",
     "shell.execute_reply": "2023-04-07T11:19:54.262556Z"
    },
    "papermill": {
     "duration": 0.035217,
     "end_time": "2023-04-07T11:19:54.265803",
     "exception": false,
     "start_time": "2023-04-07T11:19:54.230586",
     "status": "completed"
    },
    "tags": []
   },
   "outputs": [
    {
     "data": {
      "text/html": [
       "<div>\n",
       "<style scoped>\n",
       "    .dataframe tbody tr th:only-of-type {\n",
       "        vertical-align: middle;\n",
       "    }\n",
       "\n",
       "    .dataframe tbody tr th {\n",
       "        vertical-align: top;\n",
       "    }\n",
       "\n",
       "    .dataframe thead th {\n",
       "        text-align: right;\n",
       "    }\n",
       "</style>\n",
       "<table border=\"1\" class=\"dataframe\">\n",
       "  <thead>\n",
       "    <tr style=\"text-align: right;\">\n",
       "      <th></th>\n",
       "      <th>location</th>\n",
       "      <th>district</th>\n",
       "      <th>rooms</th>\n",
       "      <th>size</th>\n",
       "      <th>level</th>\n",
       "      <th>max_levels</th>\n",
       "      <th>price</th>\n",
       "    </tr>\n",
       "  </thead>\n",
       "  <tbody>\n",
       "    <tr>\n",
       "      <th>5347</th>\n",
       "      <td>город Ташкент, Яшнободский район, Дархон</td>\n",
       "      <td>Яшнободский</td>\n",
       "      <td>4</td>\n",
       "      <td>Площадьземли:1сот</td>\n",
       "      <td>3</td>\n",
       "      <td>5</td>\n",
       "      <td>150000</td>\n",
       "    </tr>\n",
       "  </tbody>\n",
       "</table>\n",
       "</div>"
      ],
      "text/plain": [
       "                                      location     district  rooms  \\\n",
       "5347  город Ташкент, Яшнободский район, Дархон  Яшнободский      4   \n",
       "\n",
       "                   size  level  max_levels   price  \n",
       "5347  Площадьземли:1сот      3           5  150000  "
      ]
     },
     "execution_count": 5,
     "metadata": {},
     "output_type": "execute_result"
    }
   ],
   "source": [
    "df[df['size'] == \"Площадьземли:1сот\"]"
   ]
  },
  {
   "cell_type": "markdown",
   "id": "b553b491",
   "metadata": {
    "papermill": {
     "duration": 0.019015,
     "end_time": "2023-04-07T11:19:54.303212",
     "exception": false,
     "start_time": "2023-04-07T11:19:54.284197",
     "status": "completed"
    },
    "tags": []
   },
   "source": [
    "Since 1 sotix is 100 m2, we change this value to 100"
   ]
  },
  {
   "cell_type": "code",
   "execution_count": 6,
   "id": "794cf3b0",
   "metadata": {
    "execution": {
     "iopub.execute_input": "2023-04-07T11:19:54.341160Z",
     "iopub.status.busy": "2023-04-07T11:19:54.340784Z",
     "iopub.status.idle": "2023-04-07T11:19:54.355773Z",
     "shell.execute_reply": "2023-04-07T11:19:54.354637Z"
    },
    "papermill": {
     "duration": 0.036642,
     "end_time": "2023-04-07T11:19:54.358233",
     "exception": false,
     "start_time": "2023-04-07T11:19:54.321591",
     "status": "completed"
    },
    "tags": []
   },
   "outputs": [
    {
     "data": {
      "text/html": [
       "<div>\n",
       "<style scoped>\n",
       "    .dataframe tbody tr th:only-of-type {\n",
       "        vertical-align: middle;\n",
       "    }\n",
       "\n",
       "    .dataframe tbody tr th {\n",
       "        vertical-align: top;\n",
       "    }\n",
       "\n",
       "    .dataframe thead th {\n",
       "        text-align: right;\n",
       "    }\n",
       "</style>\n",
       "<table border=\"1\" class=\"dataframe\">\n",
       "  <thead>\n",
       "    <tr style=\"text-align: right;\">\n",
       "      <th></th>\n",
       "      <th>location</th>\n",
       "      <th>district</th>\n",
       "      <th>rooms</th>\n",
       "      <th>size</th>\n",
       "      <th>level</th>\n",
       "      <th>max_levels</th>\n",
       "      <th>price</th>\n",
       "    </tr>\n",
       "  </thead>\n",
       "  <tbody>\n",
       "    <tr>\n",
       "      <th>5347</th>\n",
       "      <td>город Ташкент, Яшнободский район, Дархон</td>\n",
       "      <td>Яшнободский</td>\n",
       "      <td>4</td>\n",
       "      <td>100</td>\n",
       "      <td>3</td>\n",
       "      <td>5</td>\n",
       "      <td>150000</td>\n",
       "    </tr>\n",
       "  </tbody>\n",
       "</table>\n",
       "</div>"
      ],
      "text/plain": [
       "                                      location     district  rooms size  \\\n",
       "5347  город Ташкент, Яшнободский район, Дархон  Яшнободский      4  100   \n",
       "\n",
       "      level  max_levels   price  \n",
       "5347      3           5  150000  "
      ]
     },
     "execution_count": 6,
     "metadata": {},
     "output_type": "execute_result"
    }
   ],
   "source": [
    "df1 = df.replace(\"Площадьземли:1сот\", 100)\n",
    "df1.iloc[[5347]]"
   ]
  },
  {
   "cell_type": "markdown",
   "id": "effc7170",
   "metadata": {
    "papermill": {
     "duration": 0.018491,
     "end_time": "2023-04-07T11:19:54.396011",
     "exception": false,
     "start_time": "2023-04-07T11:19:54.377520",
     "status": "completed"
    },
    "tags": []
   },
   "source": [
    "Now we try to convert the **\"price\"** column to *float64* data type."
   ]
  },
  {
   "cell_type": "code",
   "execution_count": 7,
   "id": "87ce4aee",
   "metadata": {
    "execution": {
     "iopub.execute_input": "2023-04-07T11:19:54.436208Z",
     "iopub.status.busy": "2023-04-07T11:19:54.435515Z",
     "iopub.status.idle": "2023-04-07T11:19:54.439965Z",
     "shell.execute_reply": "2023-04-07T11:19:54.438907Z"
    },
    "papermill": {
     "duration": 0.027615,
     "end_time": "2023-04-07T11:19:54.442300",
     "exception": false,
     "start_time": "2023-04-07T11:19:54.414685",
     "status": "completed"
    },
    "tags": []
   },
   "outputs": [],
   "source": [
    "# df1['price'].astype(\"float64\")"
   ]
  },
  {
   "cell_type": "markdown",
   "id": "f5dae0a7",
   "metadata": {
    "papermill": {
     "duration": 0.017961,
     "end_time": "2023-04-07T11:19:54.478624",
     "exception": false,
     "start_time": "2023-04-07T11:19:54.460663",
     "status": "completed"
    },
    "tags": []
   },
   "source": [
    "As we can see, we have found that the information named **\"Договорная\"** has been entered in the **price** column.\n",
    "\n",
    "Let's define this lines"
   ]
  },
  {
   "cell_type": "code",
   "execution_count": 8,
   "id": "f9657fe8",
   "metadata": {
    "execution": {
     "iopub.execute_input": "2023-04-07T11:19:54.516881Z",
     "iopub.status.busy": "2023-04-07T11:19:54.516545Z",
     "iopub.status.idle": "2023-04-07T11:19:54.534443Z",
     "shell.execute_reply": "2023-04-07T11:19:54.533372Z"
    },
    "papermill": {
     "duration": 0.039829,
     "end_time": "2023-04-07T11:19:54.536926",
     "exception": false,
     "start_time": "2023-04-07T11:19:54.497097",
     "status": "completed"
    },
    "tags": []
   },
   "outputs": [
    {
     "data": {
      "text/html": [
       "<div>\n",
       "<style scoped>\n",
       "    .dataframe tbody tr th:only-of-type {\n",
       "        vertical-align: middle;\n",
       "    }\n",
       "\n",
       "    .dataframe tbody tr th {\n",
       "        vertical-align: top;\n",
       "    }\n",
       "\n",
       "    .dataframe thead th {\n",
       "        text-align: right;\n",
       "    }\n",
       "</style>\n",
       "<table border=\"1\" class=\"dataframe\">\n",
       "  <thead>\n",
       "    <tr style=\"text-align: right;\">\n",
       "      <th></th>\n",
       "      <th>location</th>\n",
       "      <th>district</th>\n",
       "      <th>rooms</th>\n",
       "      <th>size</th>\n",
       "      <th>level</th>\n",
       "      <th>max_levels</th>\n",
       "      <th>price</th>\n",
       "    </tr>\n",
       "  </thead>\n",
       "  <tbody>\n",
       "    <tr>\n",
       "      <th>202</th>\n",
       "      <td>город Ташкент, Яккасарайский район, Баходыра</td>\n",
       "      <td>Яккасарайский</td>\n",
       "      <td>3</td>\n",
       "      <td>119</td>\n",
       "      <td>3</td>\n",
       "      <td>9</td>\n",
       "      <td>Договорная</td>\n",
       "    </tr>\n",
       "    <tr>\n",
       "      <th>411</th>\n",
       "      <td>город Ташкент, Яккасарайский район, Баходыра</td>\n",
       "      <td>Яккасарайский</td>\n",
       "      <td>4</td>\n",
       "      <td>160</td>\n",
       "      <td>4</td>\n",
       "      <td>9</td>\n",
       "      <td>Договорная</td>\n",
       "    </tr>\n",
       "    <tr>\n",
       "      <th>439</th>\n",
       "      <td>город Ташкент, Мирзо-Улугбекский район, улица ...</td>\n",
       "      <td>Мирзо-Улугбекский</td>\n",
       "      <td>3</td>\n",
       "      <td>105</td>\n",
       "      <td>5</td>\n",
       "      <td>6</td>\n",
       "      <td>Договорная</td>\n",
       "    </tr>\n",
       "    <tr>\n",
       "      <th>460</th>\n",
       "      <td>город Ташкент, Чиланзарский район, Чиланзар 1-...</td>\n",
       "      <td>Чиланзарский</td>\n",
       "      <td>3</td>\n",
       "      <td>90</td>\n",
       "      <td>6</td>\n",
       "      <td>8</td>\n",
       "      <td>Договорная</td>\n",
       "    </tr>\n",
       "    <tr>\n",
       "      <th>507</th>\n",
       "      <td>город Ташкент, Яшнободский район, 1-й проезд А...</td>\n",
       "      <td>Яшнободский</td>\n",
       "      <td>2</td>\n",
       "      <td>48</td>\n",
       "      <td>4</td>\n",
       "      <td>4</td>\n",
       "      <td>Договорная</td>\n",
       "    </tr>\n",
       "    <tr>\n",
       "      <th>...</th>\n",
       "      <td>...</td>\n",
       "      <td>...</td>\n",
       "      <td>...</td>\n",
       "      <td>...</td>\n",
       "      <td>...</td>\n",
       "      <td>...</td>\n",
       "      <td>...</td>\n",
       "    </tr>\n",
       "    <tr>\n",
       "      <th>7039</th>\n",
       "      <td>город Ташкент, Яшнободский район, Городок Авиа...</td>\n",
       "      <td>Яшнободский</td>\n",
       "      <td>1</td>\n",
       "      <td>38.70</td>\n",
       "      <td>3</td>\n",
       "      <td>8</td>\n",
       "      <td>Договорная</td>\n",
       "    </tr>\n",
       "    <tr>\n",
       "      <th>7196</th>\n",
       "      <td>город Ташкент, Чиланзарский район, Чиланзар-16</td>\n",
       "      <td>Чиланзарский</td>\n",
       "      <td>2</td>\n",
       "      <td>51</td>\n",
       "      <td>3</td>\n",
       "      <td>4</td>\n",
       "      <td>Договорная</td>\n",
       "    </tr>\n",
       "    <tr>\n",
       "      <th>7323</th>\n",
       "      <td>город Ташкент, Мирзо-Улугбекский район, жилой ...</td>\n",
       "      <td>Мирзо-Улугбекский</td>\n",
       "      <td>6</td>\n",
       "      <td>208</td>\n",
       "      <td>1</td>\n",
       "      <td>7</td>\n",
       "      <td>Договорная</td>\n",
       "    </tr>\n",
       "    <tr>\n",
       "      <th>7403</th>\n",
       "      <td>город Ташкент, Учтепинский район, Чиланзар 14-...</td>\n",
       "      <td>Учтепинский</td>\n",
       "      <td>2</td>\n",
       "      <td>35</td>\n",
       "      <td>2</td>\n",
       "      <td>9</td>\n",
       "      <td>Договорная</td>\n",
       "    </tr>\n",
       "    <tr>\n",
       "      <th>7404</th>\n",
       "      <td>город Ташкент, Учтепинский район, Чиланзар 14-...</td>\n",
       "      <td>Учтепинский</td>\n",
       "      <td>2</td>\n",
       "      <td>35</td>\n",
       "      <td>2</td>\n",
       "      <td>9</td>\n",
       "      <td>Договорная</td>\n",
       "    </tr>\n",
       "  </tbody>\n",
       "</table>\n",
       "<p>99 rows × 7 columns</p>\n",
       "</div>"
      ],
      "text/plain": [
       "                                               location           district  \\\n",
       "202        город Ташкент, Яккасарайский район, Баходыра      Яккасарайский   \n",
       "411        город Ташкент, Яккасарайский район, Баходыра      Яккасарайский   \n",
       "439   город Ташкент, Мирзо-Улугбекский район, улица ...  Мирзо-Улугбекский   \n",
       "460   город Ташкент, Чиланзарский район, Чиланзар 1-...       Чиланзарский   \n",
       "507   город Ташкент, Яшнободский район, 1-й проезд А...        Яшнободский   \n",
       "...                                                 ...                ...   \n",
       "7039  город Ташкент, Яшнободский район, Городок Авиа...        Яшнободский   \n",
       "7196     город Ташкент, Чиланзарский район, Чиланзар-16       Чиланзарский   \n",
       "7323  город Ташкент, Мирзо-Улугбекский район, жилой ...  Мирзо-Улугбекский   \n",
       "7403  город Ташкент, Учтепинский район, Чиланзар 14-...        Учтепинский   \n",
       "7404  город Ташкент, Учтепинский район, Чиланзар 14-...        Учтепинский   \n",
       "\n",
       "      rooms   size  level  max_levels       price  \n",
       "202       3    119      3           9  Договорная  \n",
       "411       4    160      4           9  Договорная  \n",
       "439       3    105      5           6  Договорная  \n",
       "460       3     90      6           8  Договорная  \n",
       "507       2     48      4           4  Договорная  \n",
       "...     ...    ...    ...         ...         ...  \n",
       "7039      1  38.70      3           8  Договорная  \n",
       "7196      2     51      3           4  Договорная  \n",
       "7323      6    208      1           7  Договорная  \n",
       "7403      2     35      2           9  Договорная  \n",
       "7404      2     35      2           9  Договорная  \n",
       "\n",
       "[99 rows x 7 columns]"
      ]
     },
     "execution_count": 8,
     "metadata": {},
     "output_type": "execute_result"
    }
   ],
   "source": [
    "df1[df1['price'] == \"Договорная\"]"
   ]
  },
  {
   "cell_type": "markdown",
   "id": "7530211f",
   "metadata": {
    "papermill": {
     "duration": 0.019169,
     "end_time": "2023-04-07T11:19:54.574938",
     "exception": false,
     "start_time": "2023-04-07T11:19:54.555769",
     "status": "completed"
    },
    "tags": []
   },
   "source": [
    "Since we don't have enough data, we replace the **\"Договорная\"** value in these rows without discarding them.\n",
    "\n",
    "To do this, we find a column that has a strong correlation with the **\"price\"** column."
   ]
  },
  {
   "cell_type": "code",
   "execution_count": 9,
   "id": "cf721fef",
   "metadata": {
    "execution": {
     "iopub.execute_input": "2023-04-07T11:19:54.616662Z",
     "iopub.status.busy": "2023-04-07T11:19:54.615728Z",
     "iopub.status.idle": "2023-04-07T11:19:54.628255Z",
     "shell.execute_reply": "2023-04-07T11:19:54.627382Z"
    },
    "papermill": {
     "duration": 0.035723,
     "end_time": "2023-04-07T11:19:54.630525",
     "exception": false,
     "start_time": "2023-04-07T11:19:54.594802",
     "status": "completed"
    },
    "tags": []
   },
   "outputs": [],
   "source": [
    "df2 = df1[df1['price'] != \"Договорная\"]\n",
    "df3 = df2.astype({'price': 'int64'})\n",
    "df4 = df3.astype({'size': 'float64'})"
   ]
  },
  {
   "cell_type": "code",
   "execution_count": 10,
   "id": "19ff74d5",
   "metadata": {
    "execution": {
     "iopub.execute_input": "2023-04-07T11:19:54.670513Z",
     "iopub.status.busy": "2023-04-07T11:19:54.670197Z",
     "iopub.status.idle": "2023-04-07T11:19:54.685059Z",
     "shell.execute_reply": "2023-04-07T11:19:54.683984Z"
    },
    "papermill": {
     "duration": 0.037301,
     "end_time": "2023-04-07T11:19:54.687353",
     "exception": false,
     "start_time": "2023-04-07T11:19:54.650052",
     "status": "completed"
    },
    "tags": []
   },
   "outputs": [
    {
     "data": {
      "text/html": [
       "<div>\n",
       "<style scoped>\n",
       "    .dataframe tbody tr th:only-of-type {\n",
       "        vertical-align: middle;\n",
       "    }\n",
       "\n",
       "    .dataframe tbody tr th {\n",
       "        vertical-align: top;\n",
       "    }\n",
       "\n",
       "    .dataframe thead th {\n",
       "        text-align: right;\n",
       "    }\n",
       "</style>\n",
       "<table border=\"1\" class=\"dataframe\">\n",
       "  <thead>\n",
       "    <tr style=\"text-align: right;\">\n",
       "      <th></th>\n",
       "      <th>rooms</th>\n",
       "      <th>size</th>\n",
       "      <th>level</th>\n",
       "      <th>max_levels</th>\n",
       "      <th>price</th>\n",
       "    </tr>\n",
       "  </thead>\n",
       "  <tbody>\n",
       "    <tr>\n",
       "      <th>rooms</th>\n",
       "      <td>1.000000</td>\n",
       "      <td>0.027772</td>\n",
       "      <td>0.136021</td>\n",
       "      <td>0.178758</td>\n",
       "      <td>0.056176</td>\n",
       "    </tr>\n",
       "    <tr>\n",
       "      <th>size</th>\n",
       "      <td>0.027772</td>\n",
       "      <td>1.000000</td>\n",
       "      <td>-0.011049</td>\n",
       "      <td>-0.011141</td>\n",
       "      <td>0.001106</td>\n",
       "    </tr>\n",
       "    <tr>\n",
       "      <th>level</th>\n",
       "      <td>0.136021</td>\n",
       "      <td>-0.011049</td>\n",
       "      <td>1.000000</td>\n",
       "      <td>0.593700</td>\n",
       "      <td>-0.003454</td>\n",
       "    </tr>\n",
       "    <tr>\n",
       "      <th>max_levels</th>\n",
       "      <td>0.178758</td>\n",
       "      <td>-0.011141</td>\n",
       "      <td>0.593700</td>\n",
       "      <td>1.000000</td>\n",
       "      <td>0.011168</td>\n",
       "    </tr>\n",
       "    <tr>\n",
       "      <th>price</th>\n",
       "      <td>0.056176</td>\n",
       "      <td>0.001106</td>\n",
       "      <td>-0.003454</td>\n",
       "      <td>0.011168</td>\n",
       "      <td>1.000000</td>\n",
       "    </tr>\n",
       "  </tbody>\n",
       "</table>\n",
       "</div>"
      ],
      "text/plain": [
       "               rooms      size     level  max_levels     price\n",
       "rooms       1.000000  0.027772  0.136021    0.178758  0.056176\n",
       "size        0.027772  1.000000 -0.011049   -0.011141  0.001106\n",
       "level       0.136021 -0.011049  1.000000    0.593700 -0.003454\n",
       "max_levels  0.178758 -0.011141  0.593700    1.000000  0.011168\n",
       "price       0.056176  0.001106 -0.003454    0.011168  1.000000"
      ]
     },
     "execution_count": 10,
     "metadata": {},
     "output_type": "execute_result"
    }
   ],
   "source": [
    "df4.corr()"
   ]
  },
  {
   "cell_type": "markdown",
   "id": "6bc9a58d",
   "metadata": {
    "papermill": {
     "duration": 0.018687,
     "end_time": "2023-04-07T11:19:54.725822",
     "exception": false,
     "start_time": "2023-04-07T11:19:54.707135",
     "status": "completed"
    },
    "tags": []
   },
   "source": [
    "As we can see, there is no **correlation** between the **\"price\"** column and almost any other columns.\n",
    "\n",
    "This cannot be.\n",
    "\n",
    "Let's find out why. For this, we use the *pair plot* graph of the **seaborn** library."
   ]
  },
  {
   "cell_type": "code",
   "execution_count": 11,
   "id": "1bb2e7a9",
   "metadata": {
    "execution": {
     "iopub.execute_input": "2023-04-07T11:19:54.764525Z",
     "iopub.status.busy": "2023-04-07T11:19:54.764249Z",
     "iopub.status.idle": "2023-04-07T11:19:54.768187Z",
     "shell.execute_reply": "2023-04-07T11:19:54.767145Z"
    },
    "papermill": {
     "duration": 0.025868,
     "end_time": "2023-04-07T11:19:54.770504",
     "exception": false,
     "start_time": "2023-04-07T11:19:54.744636",
     "status": "completed"
    },
    "tags": []
   },
   "outputs": [],
   "source": [
    "# cols = ['price','size','rooms','level', 'max_levels']\n",
    "# sns.pairplot(df4[cols], height=5)\n",
    "# plt.show()"
   ]
  },
  {
   "cell_type": "markdown",
   "id": "ca7ec153",
   "metadata": {
    "papermill": {
     "duration": 0.019186,
     "end_time": "2023-04-07T11:19:54.808276",
     "exception": false,
     "start_time": "2023-04-07T11:19:54.789090",
     "status": "completed"
    },
    "tags": []
   },
   "source": [
    "As we can see, the values in the *size* column are entered by mistake. We analyze them."
   ]
  },
  {
   "cell_type": "code",
   "execution_count": 12,
   "id": "b39089bf",
   "metadata": {
    "execution": {
     "iopub.execute_input": "2023-04-07T11:19:54.848716Z",
     "iopub.status.busy": "2023-04-07T11:19:54.847233Z",
     "iopub.status.idle": "2023-04-07T11:19:54.868430Z",
     "shell.execute_reply": "2023-04-07T11:19:54.867386Z"
    },
    "papermill": {
     "duration": 0.043555,
     "end_time": "2023-04-07T11:19:54.871021",
     "exception": false,
     "start_time": "2023-04-07T11:19:54.827466",
     "status": "completed"
    },
    "tags": []
   },
   "outputs": [
    {
     "data": {
      "text/html": [
       "<div>\n",
       "<style scoped>\n",
       "    .dataframe tbody tr th:only-of-type {\n",
       "        vertical-align: middle;\n",
       "    }\n",
       "\n",
       "    .dataframe tbody tr th {\n",
       "        vertical-align: top;\n",
       "    }\n",
       "\n",
       "    .dataframe thead th {\n",
       "        text-align: right;\n",
       "    }\n",
       "</style>\n",
       "<table border=\"1\" class=\"dataframe\">\n",
       "  <thead>\n",
       "    <tr style=\"text-align: right;\">\n",
       "      <th></th>\n",
       "      <th>location</th>\n",
       "      <th>district</th>\n",
       "      <th>rooms</th>\n",
       "      <th>size</th>\n",
       "      <th>level</th>\n",
       "      <th>max_levels</th>\n",
       "      <th>price</th>\n",
       "    </tr>\n",
       "  </thead>\n",
       "  <tbody>\n",
       "    <tr>\n",
       "      <th>262</th>\n",
       "      <td>город Ташкент, Мирабадский район, Нукус</td>\n",
       "      <td>Мирабадский</td>\n",
       "      <td>8</td>\n",
       "      <td>350.0</td>\n",
       "      <td>2</td>\n",
       "      <td>12</td>\n",
       "      <td>260000</td>\n",
       "    </tr>\n",
       "    <tr>\n",
       "      <th>981</th>\n",
       "      <td>город Ташкент, Мирабадский район, Массив Куйлю...</td>\n",
       "      <td>Мирабадский</td>\n",
       "      <td>3</td>\n",
       "      <td>7359.0</td>\n",
       "      <td>2</td>\n",
       "      <td>4</td>\n",
       "      <td>46500</td>\n",
       "    </tr>\n",
       "    <tr>\n",
       "      <th>1557</th>\n",
       "      <td>город Ташкент, Юнусабадский район, Минор</td>\n",
       "      <td>Юнусабадский</td>\n",
       "      <td>10</td>\n",
       "      <td>448.0</td>\n",
       "      <td>7</td>\n",
       "      <td>7</td>\n",
       "      <td>425600</td>\n",
       "    </tr>\n",
       "    <tr>\n",
       "      <th>1675</th>\n",
       "      <td>город Ташкент, Мирабадский район, Нукус</td>\n",
       "      <td>Мирабадский</td>\n",
       "      <td>8</td>\n",
       "      <td>350.0</td>\n",
       "      <td>2</td>\n",
       "      <td>12</td>\n",
       "      <td>260000</td>\n",
       "    </tr>\n",
       "    <tr>\n",
       "      <th>1693</th>\n",
       "      <td>город Ташкент, Яшнободский район, Садыка Азимо...</td>\n",
       "      <td>Яшнободский</td>\n",
       "      <td>4</td>\n",
       "      <td>456.0</td>\n",
       "      <td>8</td>\n",
       "      <td>8</td>\n",
       "      <td>230000</td>\n",
       "    </tr>\n",
       "    <tr>\n",
       "      <th>1695</th>\n",
       "      <td>город Ташкент, Мирабадский район, Фидокор (Чех...</td>\n",
       "      <td>Мирабадский</td>\n",
       "      <td>10</td>\n",
       "      <td>456.0</td>\n",
       "      <td>3</td>\n",
       "      <td>7</td>\n",
       "      <td>800000</td>\n",
       "    </tr>\n",
       "    <tr>\n",
       "      <th>1696</th>\n",
       "      <td>город Ташкент, Мирзо-Улугбекский район, Тимура...</td>\n",
       "      <td>Мирзо-Улугбекский</td>\n",
       "      <td>10</td>\n",
       "      <td>330.0</td>\n",
       "      <td>1</td>\n",
       "      <td>4</td>\n",
       "      <td>130000</td>\n",
       "    </tr>\n",
       "    <tr>\n",
       "      <th>1799</th>\n",
       "      <td>город Ташкент, Шайхантахурский район, Хувайдо ...</td>\n",
       "      <td>Шайхантахурский</td>\n",
       "      <td>5</td>\n",
       "      <td>317.0</td>\n",
       "      <td>1</td>\n",
       "      <td>4</td>\n",
       "      <td>250000</td>\n",
       "    </tr>\n",
       "    <tr>\n",
       "      <th>1827</th>\n",
       "      <td>город Ташкент, Мирзо-Улугбекский район, Хирмон...</td>\n",
       "      <td>Мирзо-Улугбекский</td>\n",
       "      <td>6</td>\n",
       "      <td>400.0</td>\n",
       "      <td>1</td>\n",
       "      <td>2</td>\n",
       "      <td>2000</td>\n",
       "    </tr>\n",
       "    <tr>\n",
       "      <th>1831</th>\n",
       "      <td>город Ташкент, Сергелийский район, 7</td>\n",
       "      <td>Сергелийский</td>\n",
       "      <td>5</td>\n",
       "      <td>310.0</td>\n",
       "      <td>9</td>\n",
       "      <td>9</td>\n",
       "      <td>57500</td>\n",
       "    </tr>\n",
       "    <tr>\n",
       "      <th>2268</th>\n",
       "      <td>город Ташкент, Мирзо-Улугбекский район, Ахмад ...</td>\n",
       "      <td>Мирзо-Улугбекский</td>\n",
       "      <td>1</td>\n",
       "      <td>24500.0</td>\n",
       "      <td>2</td>\n",
       "      <td>5</td>\n",
       "      <td>24500</td>\n",
       "    </tr>\n",
       "    <tr>\n",
       "      <th>2382</th>\n",
       "      <td>город Ташкент, Мирзо-Улугбекский район, Ирригатор</td>\n",
       "      <td>Мирзо-Улугбекский</td>\n",
       "      <td>6</td>\n",
       "      <td>347.0</td>\n",
       "      <td>3</td>\n",
       "      <td>9</td>\n",
       "      <td>240000</td>\n",
       "    </tr>\n",
       "    <tr>\n",
       "      <th>2547</th>\n",
       "      <td>город Ташкент, Юнусабадский район, Киёт</td>\n",
       "      <td>Юнусабадский</td>\n",
       "      <td>3</td>\n",
       "      <td>70000.0</td>\n",
       "      <td>2</td>\n",
       "      <td>4</td>\n",
       "      <td>76000</td>\n",
       "    </tr>\n",
       "    <tr>\n",
       "      <th>2662</th>\n",
       "      <td>город Ташкент, Учтепинский район, Учтепинский ...</td>\n",
       "      <td>Учтепинский</td>\n",
       "      <td>1</td>\n",
       "      <td>3448.0</td>\n",
       "      <td>5</td>\n",
       "      <td>5</td>\n",
       "      <td>25000</td>\n",
       "    </tr>\n",
       "    <tr>\n",
       "      <th>2965</th>\n",
       "      <td>город Ташкент, Яшнободский район, Садыка Азимова</td>\n",
       "      <td>Яшнободский</td>\n",
       "      <td>7</td>\n",
       "      <td>360.0</td>\n",
       "      <td>5</td>\n",
       "      <td>6</td>\n",
       "      <td>300000</td>\n",
       "    </tr>\n",
       "    <tr>\n",
       "      <th>3089</th>\n",
       "      <td>город Ташкент, Мирзо-Улугбекский район, Карасу...</td>\n",
       "      <td>Мирзо-Улугбекский</td>\n",
       "      <td>2</td>\n",
       "      <td>44000.0</td>\n",
       "      <td>3</td>\n",
       "      <td>4</td>\n",
       "      <td>44000</td>\n",
       "    </tr>\n",
       "    <tr>\n",
       "      <th>3656</th>\n",
       "      <td>город Ташкент, Мирзо-Улугбекский район, Дархан</td>\n",
       "      <td>Мирзо-Улугбекский</td>\n",
       "      <td>5</td>\n",
       "      <td>336.0</td>\n",
       "      <td>8</td>\n",
       "      <td>9</td>\n",
       "      <td>504000</td>\n",
       "    </tr>\n",
       "    <tr>\n",
       "      <th>3977</th>\n",
       "      <td>город Ташкент, Мирабадский район, Сайхун</td>\n",
       "      <td>Мирабадский</td>\n",
       "      <td>3</td>\n",
       "      <td>313.0</td>\n",
       "      <td>5</td>\n",
       "      <td>5</td>\n",
       "      <td>65000</td>\n",
       "    </tr>\n",
       "    <tr>\n",
       "      <th>4089</th>\n",
       "      <td>город Ташкент, Шайхантахурский район, Актепа</td>\n",
       "      <td>Шайхантахурский</td>\n",
       "      <td>6</td>\n",
       "      <td>500.0</td>\n",
       "      <td>2</td>\n",
       "      <td>2</td>\n",
       "      <td>1800</td>\n",
       "    </tr>\n",
       "    <tr>\n",
       "      <th>4411</th>\n",
       "      <td>город Ташкент, Яшнободский район, Эльбека</td>\n",
       "      <td>Яшнободский</td>\n",
       "      <td>5</td>\n",
       "      <td>321.0</td>\n",
       "      <td>1</td>\n",
       "      <td>1</td>\n",
       "      <td>48000</td>\n",
       "    </tr>\n",
       "    <tr>\n",
       "      <th>4615</th>\n",
       "      <td>город Ташкент, Олмазорский район, Метро Тынчлик</td>\n",
       "      <td>Олмазорский</td>\n",
       "      <td>4</td>\n",
       "      <td>69000.0</td>\n",
       "      <td>3</td>\n",
       "      <td>4</td>\n",
       "      <td>69000</td>\n",
       "    </tr>\n",
       "    <tr>\n",
       "      <th>4784</th>\n",
       "      <td>город Ташкент, Мирабадский район, Массив Куйлюк1</td>\n",
       "      <td>Мирабадский</td>\n",
       "      <td>3</td>\n",
       "      <td>7359.0</td>\n",
       "      <td>2</td>\n",
       "      <td>4</td>\n",
       "      <td>46500</td>\n",
       "    </tr>\n",
       "    <tr>\n",
       "      <th>5111</th>\n",
       "      <td>город Ташкент, Шайхантахурский район, Хувайдо</td>\n",
       "      <td>Шайхантахурский</td>\n",
       "      <td>7</td>\n",
       "      <td>320.0</td>\n",
       "      <td>7</td>\n",
       "      <td>7</td>\n",
       "      <td>130000</td>\n",
       "    </tr>\n",
       "    <tr>\n",
       "      <th>5118</th>\n",
       "      <td>город Ташкент, Мирабадский район, Фидокор (Чех...</td>\n",
       "      <td>Мирабадский</td>\n",
       "      <td>10</td>\n",
       "      <td>456.0</td>\n",
       "      <td>3</td>\n",
       "      <td>7</td>\n",
       "      <td>800000</td>\n",
       "    </tr>\n",
       "    <tr>\n",
       "      <th>5197</th>\n",
       "      <td>город Ташкент, Шайхантахурский район, Хадра</td>\n",
       "      <td>Шайхантахурский</td>\n",
       "      <td>6</td>\n",
       "      <td>420.0</td>\n",
       "      <td>7</td>\n",
       "      <td>7</td>\n",
       "      <td>200000</td>\n",
       "    </tr>\n",
       "    <tr>\n",
       "      <th>5456</th>\n",
       "      <td>город Ташкент, Мирзо-Улугбекский район, Карасу...</td>\n",
       "      <td>Мирзо-Улугбекский</td>\n",
       "      <td>3</td>\n",
       "      <td>67000.0</td>\n",
       "      <td>2</td>\n",
       "      <td>5</td>\n",
       "      <td>67000</td>\n",
       "    </tr>\n",
       "    <tr>\n",
       "      <th>5874</th>\n",
       "      <td>город Ташкент, Юнусабадский район, Минор</td>\n",
       "      <td>Юнусабадский</td>\n",
       "      <td>10</td>\n",
       "      <td>448.0</td>\n",
       "      <td>7</td>\n",
       "      <td>7</td>\n",
       "      <td>425600</td>\n",
       "    </tr>\n",
       "    <tr>\n",
       "      <th>5974</th>\n",
       "      <td>город Ташкент, Яшнободский район, Элбека</td>\n",
       "      <td>Яшнободский</td>\n",
       "      <td>4</td>\n",
       "      <td>320.0</td>\n",
       "      <td>4</td>\n",
       "      <td>4</td>\n",
       "      <td>255000</td>\n",
       "    </tr>\n",
       "    <tr>\n",
       "      <th>5976</th>\n",
       "      <td>город Ташкент, Яшнободский район, Эльбека</td>\n",
       "      <td>Яшнободский</td>\n",
       "      <td>4</td>\n",
       "      <td>320.0</td>\n",
       "      <td>4</td>\n",
       "      <td>4</td>\n",
       "      <td>255000</td>\n",
       "    </tr>\n",
       "    <tr>\n",
       "      <th>6545</th>\n",
       "      <td>город Ташкент, Шайхантахурский район, Хувайдо</td>\n",
       "      <td>Шайхантахурский</td>\n",
       "      <td>7</td>\n",
       "      <td>320.0</td>\n",
       "      <td>7</td>\n",
       "      <td>7</td>\n",
       "      <td>130000</td>\n",
       "    </tr>\n",
       "    <tr>\n",
       "      <th>6851</th>\n",
       "      <td>город Ташкент, Шайхантахурский район, метро Чорсу</td>\n",
       "      <td>Шайхантахурский</td>\n",
       "      <td>6</td>\n",
       "      <td>341.0</td>\n",
       "      <td>2</td>\n",
       "      <td>3</td>\n",
       "      <td>250000</td>\n",
       "    </tr>\n",
       "    <tr>\n",
       "      <th>7043</th>\n",
       "      <td>город Ташкент, Олмазорский район, Олмазорский ...</td>\n",
       "      <td>Олмазорский</td>\n",
       "      <td>4</td>\n",
       "      <td>7407.0</td>\n",
       "      <td>4</td>\n",
       "      <td>4</td>\n",
       "      <td>44000</td>\n",
       "    </tr>\n",
       "    <tr>\n",
       "      <th>7421</th>\n",
       "      <td>город Ташкент, Юнусабадский район, Хасанбой</td>\n",
       "      <td>Юнусабадский</td>\n",
       "      <td>8</td>\n",
       "      <td>2100.0</td>\n",
       "      <td>1</td>\n",
       "      <td>1</td>\n",
       "      <td>265000</td>\n",
       "    </tr>\n",
       "  </tbody>\n",
       "</table>\n",
       "</div>"
      ],
      "text/plain": [
       "                                               location           district  \\\n",
       "262             город Ташкент, Мирабадский район, Нукус        Мирабадский   \n",
       "981   город Ташкент, Мирабадский район, Массив Куйлю...        Мирабадский   \n",
       "1557           город Ташкент, Юнусабадский район, Минор       Юнусабадский   \n",
       "1675            город Ташкент, Мирабадский район, Нукус        Мирабадский   \n",
       "1693  город Ташкент, Яшнободский район, Садыка Азимо...        Яшнободский   \n",
       "1695  город Ташкент, Мирабадский район, Фидокор (Чех...        Мирабадский   \n",
       "1696  город Ташкент, Мирзо-Улугбекский район, Тимура...  Мирзо-Улугбекский   \n",
       "1799  город Ташкент, Шайхантахурский район, Хувайдо ...    Шайхантахурский   \n",
       "1827  город Ташкент, Мирзо-Улугбекский район, Хирмон...  Мирзо-Улугбекский   \n",
       "1831               город Ташкент, Сергелийский район, 7       Сергелийский   \n",
       "2268  город Ташкент, Мирзо-Улугбекский район, Ахмад ...  Мирзо-Улугбекский   \n",
       "2382  город Ташкент, Мирзо-Улугбекский район, Ирригатор  Мирзо-Улугбекский   \n",
       "2547            город Ташкент, Юнусабадский район, Киёт       Юнусабадский   \n",
       "2662  город Ташкент, Учтепинский район, Учтепинский ...        Учтепинский   \n",
       "2965   город Ташкент, Яшнободский район, Садыка Азимова        Яшнободский   \n",
       "3089  город Ташкент, Мирзо-Улугбекский район, Карасу...  Мирзо-Улугбекский   \n",
       "3656     город Ташкент, Мирзо-Улугбекский район, Дархан  Мирзо-Улугбекский   \n",
       "3977           город Ташкент, Мирабадский район, Сайхун        Мирабадский   \n",
       "4089       город Ташкент, Шайхантахурский район, Актепа    Шайхантахурский   \n",
       "4411          город Ташкент, Яшнободский район, Эльбека        Яшнободский   \n",
       "4615    город Ташкент, Олмазорский район, Метро Тынчлик        Олмазорский   \n",
       "4784   город Ташкент, Мирабадский район, Массив Куйлюк1        Мирабадский   \n",
       "5111      город Ташкент, Шайхантахурский район, Хувайдо    Шайхантахурский   \n",
       "5118  город Ташкент, Мирабадский район, Фидокор (Чех...        Мирабадский   \n",
       "5197        город Ташкент, Шайхантахурский район, Хадра    Шайхантахурский   \n",
       "5456  город Ташкент, Мирзо-Улугбекский район, Карасу...  Мирзо-Улугбекский   \n",
       "5874           город Ташкент, Юнусабадский район, Минор       Юнусабадский   \n",
       "5974           город Ташкент, Яшнободский район, Элбека        Яшнободский   \n",
       "5976          город Ташкент, Яшнободский район, Эльбека        Яшнободский   \n",
       "6545      город Ташкент, Шайхантахурский район, Хувайдо    Шайхантахурский   \n",
       "6851  город Ташкент, Шайхантахурский район, метро Чорсу    Шайхантахурский   \n",
       "7043  город Ташкент, Олмазорский район, Олмазорский ...        Олмазорский   \n",
       "7421        город Ташкент, Юнусабадский район, Хасанбой       Юнусабадский   \n",
       "\n",
       "      rooms     size  level  max_levels   price  \n",
       "262       8    350.0      2          12  260000  \n",
       "981       3   7359.0      2           4   46500  \n",
       "1557     10    448.0      7           7  425600  \n",
       "1675      8    350.0      2          12  260000  \n",
       "1693      4    456.0      8           8  230000  \n",
       "1695     10    456.0      3           7  800000  \n",
       "1696     10    330.0      1           4  130000  \n",
       "1799      5    317.0      1           4  250000  \n",
       "1827      6    400.0      1           2    2000  \n",
       "1831      5    310.0      9           9   57500  \n",
       "2268      1  24500.0      2           5   24500  \n",
       "2382      6    347.0      3           9  240000  \n",
       "2547      3  70000.0      2           4   76000  \n",
       "2662      1   3448.0      5           5   25000  \n",
       "2965      7    360.0      5           6  300000  \n",
       "3089      2  44000.0      3           4   44000  \n",
       "3656      5    336.0      8           9  504000  \n",
       "3977      3    313.0      5           5   65000  \n",
       "4089      6    500.0      2           2    1800  \n",
       "4411      5    321.0      1           1   48000  \n",
       "4615      4  69000.0      3           4   69000  \n",
       "4784      3   7359.0      2           4   46500  \n",
       "5111      7    320.0      7           7  130000  \n",
       "5118     10    456.0      3           7  800000  \n",
       "5197      6    420.0      7           7  200000  \n",
       "5456      3  67000.0      2           5   67000  \n",
       "5874     10    448.0      7           7  425600  \n",
       "5974      4    320.0      4           4  255000  \n",
       "5976      4    320.0      4           4  255000  \n",
       "6545      7    320.0      7           7  130000  \n",
       "6851      6    341.0      2           3  250000  \n",
       "7043      4   7407.0      4           4   44000  \n",
       "7421      8   2100.0      1           1  265000  "
      ]
     },
     "execution_count": 12,
     "metadata": {},
     "output_type": "execute_result"
    }
   ],
   "source": [
    "df4[df4['size'] > 300]"
   ]
  },
  {
   "cell_type": "markdown",
   "id": "80f5ead1",
   "metadata": {
    "papermill": {
     "duration": 0.020187,
     "end_time": "2023-04-07T11:19:54.911900",
     "exception": false,
     "start_time": "2023-04-07T11:19:54.891713",
     "status": "completed"
    },
    "tags": []
   },
   "source": [
    "Since the values at index 1827, 2268, 2547, 3089, 4089, 4411, 4615, 5456, 7421 are entered incorrectly, we discard these rows."
   ]
  },
  {
   "cell_type": "code",
   "execution_count": 13,
   "id": "d2ceef0c",
   "metadata": {
    "execution": {
     "iopub.execute_input": "2023-04-07T11:19:54.953766Z",
     "iopub.status.busy": "2023-04-07T11:19:54.953474Z",
     "iopub.status.idle": "2023-04-07T11:19:54.959454Z",
     "shell.execute_reply": "2023-04-07T11:19:54.958437Z"
    },
    "papermill": {
     "duration": 0.029584,
     "end_time": "2023-04-07T11:19:54.961881",
     "exception": false,
     "start_time": "2023-04-07T11:19:54.932297",
     "status": "completed"
    },
    "tags": []
   },
   "outputs": [
    {
     "data": {
      "text/plain": [
       "(7466, 7)"
      ]
     },
     "execution_count": 13,
     "metadata": {},
     "output_type": "execute_result"
    }
   ],
   "source": [
    "df4.shape"
   ]
  },
  {
   "cell_type": "code",
   "execution_count": 14,
   "id": "6844d682",
   "metadata": {
    "execution": {
     "iopub.execute_input": "2023-04-07T11:19:55.003198Z",
     "iopub.status.busy": "2023-04-07T11:19:55.002916Z",
     "iopub.status.idle": "2023-04-07T11:19:55.008736Z",
     "shell.execute_reply": "2023-04-07T11:19:55.007680Z"
    },
    "papermill": {
     "duration": 0.028613,
     "end_time": "2023-04-07T11:19:55.011021",
     "exception": false,
     "start_time": "2023-04-07T11:19:54.982408",
     "status": "completed"
    },
    "tags": []
   },
   "outputs": [],
   "source": [
    "df5 = df4.drop([1827, 2268, 2547, 3089, 4089, 4411, 4615, 5456, 7421,1831])\n"
   ]
  },
  {
   "cell_type": "code",
   "execution_count": 15,
   "id": "518e412a",
   "metadata": {
    "execution": {
     "iopub.execute_input": "2023-04-07T11:19:55.051787Z",
     "iopub.status.busy": "2023-04-07T11:19:55.050767Z",
     "iopub.status.idle": "2023-04-07T11:19:55.057518Z",
     "shell.execute_reply": "2023-04-07T11:19:55.056459Z"
    },
    "papermill": {
     "duration": 0.029247,
     "end_time": "2023-04-07T11:19:55.059611",
     "exception": false,
     "start_time": "2023-04-07T11:19:55.030364",
     "status": "completed"
    },
    "tags": []
   },
   "outputs": [
    {
     "data": {
      "text/plain": [
       "(7456, 7)"
      ]
     },
     "execution_count": 15,
     "metadata": {},
     "output_type": "execute_result"
    }
   ],
   "source": [
    "df5.shape"
   ]
  },
  {
   "cell_type": "markdown",
   "id": "d4b8f643",
   "metadata": {
    "papermill": {
     "duration": 0.01945,
     "end_time": "2023-04-07T11:19:55.098539",
     "exception": false,
     "start_time": "2023-04-07T11:19:55.079089",
     "status": "completed"
    },
    "tags": []
   },
   "source": [
    "Since the values in the index 981, 1831, 2662, 4784, 7043 are entered as multiples of 100, we divide these values by 100."
   ]
  },
  {
   "cell_type": "code",
   "execution_count": 16,
   "id": "cef755b4",
   "metadata": {
    "execution": {
     "iopub.execute_input": "2023-04-07T11:19:55.138883Z",
     "iopub.status.busy": "2023-04-07T11:19:55.138565Z",
     "iopub.status.idle": "2023-04-07T11:19:55.148154Z",
     "shell.execute_reply": "2023-04-07T11:19:55.146900Z"
    },
    "papermill": {
     "duration": 0.032095,
     "end_time": "2023-04-07T11:19:55.150325",
     "exception": false,
     "start_time": "2023-04-07T11:19:55.118230",
     "status": "completed"
    },
    "tags": []
   },
   "outputs": [
    {
     "name": "stderr",
     "output_type": "stream",
     "text": [
      "/opt/conda/lib/python3.7/site-packages/ipykernel_launcher.py:1: SettingWithCopyWarning: \n",
      "A value is trying to be set on a copy of a slice from a DataFrame\n",
      "\n",
      "See the caveats in the documentation: https://pandas.pydata.org/pandas-docs/stable/user_guide/indexing.html#returning-a-view-versus-a-copy\n",
      "  \"\"\"Entry point for launching an IPython kernel.\n"
     ]
    }
   ],
   "source": [
    "df5['size'][[981, 2662, 4784, 7043]] = df5['size'][[981, 2662, 4784, 7043]].map(lambda x: x / 100)\n",
    "df5 = df4.drop([1827, 2268, 2547, 3089, 4089, 4411, 4615, 5456, 7421,1831])"
   ]
  },
  {
   "cell_type": "code",
   "execution_count": 17,
   "id": "a1f2e8a1",
   "metadata": {
    "execution": {
     "iopub.execute_input": "2023-04-07T11:19:55.190593Z",
     "iopub.status.busy": "2023-04-07T11:19:55.190275Z",
     "iopub.status.idle": "2023-04-07T11:19:55.194590Z",
     "shell.execute_reply": "2023-04-07T11:19:55.193552Z"
    },
    "papermill": {
     "duration": 0.026964,
     "end_time": "2023-04-07T11:19:55.196616",
     "exception": false,
     "start_time": "2023-04-07T11:19:55.169652",
     "status": "completed"
    },
    "tags": []
   },
   "outputs": [],
   "source": [
    "# cols = ['price','size','rooms','level', 'max_levels']\n",
    "# sns.pairplot(df5[cols], height=5)\n",
    "# plt.show()"
   ]
  },
  {
   "cell_type": "code",
   "execution_count": 18,
   "id": "71e8b7b5",
   "metadata": {
    "execution": {
     "iopub.execute_input": "2023-04-07T11:19:55.237520Z",
     "iopub.status.busy": "2023-04-07T11:19:55.236698Z",
     "iopub.status.idle": "2023-04-07T11:19:55.250390Z",
     "shell.execute_reply": "2023-04-07T11:19:55.249222Z"
    },
    "papermill": {
     "duration": 0.036501,
     "end_time": "2023-04-07T11:19:55.252427",
     "exception": false,
     "start_time": "2023-04-07T11:19:55.215926",
     "status": "completed"
    },
    "tags": []
   },
   "outputs": [
    {
     "data": {
      "text/html": [
       "<div>\n",
       "<style scoped>\n",
       "    .dataframe tbody tr th:only-of-type {\n",
       "        vertical-align: middle;\n",
       "    }\n",
       "\n",
       "    .dataframe tbody tr th {\n",
       "        vertical-align: top;\n",
       "    }\n",
       "\n",
       "    .dataframe thead th {\n",
       "        text-align: right;\n",
       "    }\n",
       "</style>\n",
       "<table border=\"1\" class=\"dataframe\">\n",
       "  <thead>\n",
       "    <tr style=\"text-align: right;\">\n",
       "      <th></th>\n",
       "      <th>location</th>\n",
       "      <th>district</th>\n",
       "      <th>rooms</th>\n",
       "      <th>size</th>\n",
       "      <th>level</th>\n",
       "      <th>max_levels</th>\n",
       "      <th>price</th>\n",
       "    </tr>\n",
       "  </thead>\n",
       "  <tbody>\n",
       "    <tr>\n",
       "      <th>330</th>\n",
       "      <td>город Ташкент, Яшнободский район, 1-й переулок...</td>\n",
       "      <td>Яшнободский</td>\n",
       "      <td>2</td>\n",
       "      <td>68.0</td>\n",
       "      <td>5</td>\n",
       "      <td>8</td>\n",
       "      <td>1666000</td>\n",
       "    </tr>\n",
       "    <tr>\n",
       "      <th>1744</th>\n",
       "      <td>город Ташкент, Олмазорский район, Toshmi</td>\n",
       "      <td>Олмазорский</td>\n",
       "      <td>3</td>\n",
       "      <td>84.0</td>\n",
       "      <td>1</td>\n",
       "      <td>5</td>\n",
       "      <td>3780000</td>\n",
       "    </tr>\n",
       "    <tr>\n",
       "      <th>5903</th>\n",
       "      <td>город Ташкент, Учтепинский район, Chtepa Fozil...</td>\n",
       "      <td>Учтепинский</td>\n",
       "      <td>4</td>\n",
       "      <td>72.0</td>\n",
       "      <td>2</td>\n",
       "      <td>5</td>\n",
       "      <td>52000000</td>\n",
       "    </tr>\n",
       "    <tr>\n",
       "      <th>6133</th>\n",
       "      <td>город Ташкент, Юнусабадский район, город Ташке...</td>\n",
       "      <td>Юнусабадский</td>\n",
       "      <td>3</td>\n",
       "      <td>42.0</td>\n",
       "      <td>3</td>\n",
       "      <td>4</td>\n",
       "      <td>1344000</td>\n",
       "    </tr>\n",
       "    <tr>\n",
       "      <th>6517</th>\n",
       "      <td>город Ташкент, Юнусабадский район, Юнусабад 5к...</td>\n",
       "      <td>Юнусабадский</td>\n",
       "      <td>3</td>\n",
       "      <td>80.0</td>\n",
       "      <td>8</td>\n",
       "      <td>9</td>\n",
       "      <td>4240000</td>\n",
       "    </tr>\n",
       "    <tr>\n",
       "      <th>6952</th>\n",
       "      <td>город Ташкент, Шайхантахурский район, Алишера ...</td>\n",
       "      <td>Шайхантахурский</td>\n",
       "      <td>3</td>\n",
       "      <td>114.0</td>\n",
       "      <td>5</td>\n",
       "      <td>7</td>\n",
       "      <td>15504000</td>\n",
       "    </tr>\n",
       "    <tr>\n",
       "      <th>7081</th>\n",
       "      <td>город Ташкент, Чиланзарский район, Тирсакобод</td>\n",
       "      <td>Чиланзарский</td>\n",
       "      <td>2</td>\n",
       "      <td>85.0</td>\n",
       "      <td>2</td>\n",
       "      <td>3</td>\n",
       "      <td>6630000</td>\n",
       "    </tr>\n",
       "    <tr>\n",
       "      <th>7296</th>\n",
       "      <td>город Ташкент, Яшнободский район, Садыка Азимо...</td>\n",
       "      <td>Яшнободский</td>\n",
       "      <td>4</td>\n",
       "      <td>96.0</td>\n",
       "      <td>2</td>\n",
       "      <td>5</td>\n",
       "      <td>5568000</td>\n",
       "    </tr>\n",
       "    <tr>\n",
       "      <th>7466</th>\n",
       "      <td>город Ташкент, Чиланзарский район, 1-й проезд ...</td>\n",
       "      <td>Чиланзарский</td>\n",
       "      <td>2</td>\n",
       "      <td>42.0</td>\n",
       "      <td>1</td>\n",
       "      <td>3</td>\n",
       "      <td>1470000</td>\n",
       "    </tr>\n",
       "  </tbody>\n",
       "</table>\n",
       "</div>"
      ],
      "text/plain": [
       "                                               location         district  \\\n",
       "330   город Ташкент, Яшнободский район, 1-й переулок...      Яшнободский   \n",
       "1744           город Ташкент, Олмазорский район, Toshmi      Олмазорский   \n",
       "5903  город Ташкент, Учтепинский район, Chtepa Fozil...      Учтепинский   \n",
       "6133  город Ташкент, Юнусабадский район, город Ташке...     Юнусабадский   \n",
       "6517  город Ташкент, Юнусабадский район, Юнусабад 5к...     Юнусабадский   \n",
       "6952  город Ташкент, Шайхантахурский район, Алишера ...  Шайхантахурский   \n",
       "7081      город Ташкент, Чиланзарский район, Тирсакобод     Чиланзарский   \n",
       "7296  город Ташкент, Яшнободский район, Садыка Азимо...      Яшнободский   \n",
       "7466  город Ташкент, Чиланзарский район, 1-й проезд ...     Чиланзарский   \n",
       "\n",
       "      rooms   size  level  max_levels     price  \n",
       "330       2   68.0      5           8   1666000  \n",
       "1744      3   84.0      1           5   3780000  \n",
       "5903      4   72.0      2           5  52000000  \n",
       "6133      3   42.0      3           4   1344000  \n",
       "6517      3   80.0      8           9   4240000  \n",
       "6952      3  114.0      5           7  15504000  \n",
       "7081      2   85.0      2           3   6630000  \n",
       "7296      4   96.0      2           5   5568000  \n",
       "7466      2   42.0      1           3   1470000  "
      ]
     },
     "execution_count": 18,
     "metadata": {},
     "output_type": "execute_result"
    }
   ],
   "source": [
    "df5[df5['price'] > 1000_000]"
   ]
  },
  {
   "cell_type": "markdown",
   "id": "b5dac027",
   "metadata": {
    "papermill": {
     "duration": 0.019456,
     "end_time": "2023-04-07T11:19:55.291976",
     "exception": false,
     "start_time": "2023-04-07T11:19:55.272520",
     "status": "completed"
    },
    "tags": []
   },
   "source": [
    "If we analyze the price column, this column also contains errors in excess of **1,000,000** US dollars.\n",
    "We throw them away."
   ]
  },
  {
   "cell_type": "code",
   "execution_count": 19,
   "id": "f2978723",
   "metadata": {
    "execution": {
     "iopub.execute_input": "2023-04-07T11:19:55.332199Z",
     "iopub.status.busy": "2023-04-07T11:19:55.331926Z",
     "iopub.status.idle": "2023-04-07T11:19:55.337324Z",
     "shell.execute_reply": "2023-04-07T11:19:55.336328Z"
    },
    "papermill": {
     "duration": 0.027862,
     "end_time": "2023-04-07T11:19:55.339371",
     "exception": false,
     "start_time": "2023-04-07T11:19:55.311509",
     "status": "completed"
    },
    "tags": []
   },
   "outputs": [],
   "source": [
    "df6 = df5[df5['price'] < 1000_000]"
   ]
  },
  {
   "cell_type": "markdown",
   "id": "3f206ad2",
   "metadata": {
    "papermill": {
     "duration": 0.019699,
     "end_time": "2023-04-07T11:19:55.378884",
     "exception": false,
     "start_time": "2023-04-07T11:19:55.359185",
     "status": "completed"
    },
    "tags": []
   },
   "source": [
    "Now let's see the **correlation**."
   ]
  },
  {
   "cell_type": "code",
   "execution_count": 20,
   "id": "2691d244",
   "metadata": {
    "execution": {
     "iopub.execute_input": "2023-04-07T11:19:55.419400Z",
     "iopub.status.busy": "2023-04-07T11:19:55.419081Z",
     "iopub.status.idle": "2023-04-07T11:19:55.432222Z",
     "shell.execute_reply": "2023-04-07T11:19:55.431189Z"
    },
    "papermill": {
     "duration": 0.035829,
     "end_time": "2023-04-07T11:19:55.434288",
     "exception": false,
     "start_time": "2023-04-07T11:19:55.398459",
     "status": "completed"
    },
    "tags": []
   },
   "outputs": [
    {
     "data": {
      "text/html": [
       "<div>\n",
       "<style scoped>\n",
       "    .dataframe tbody tr th:only-of-type {\n",
       "        vertical-align: middle;\n",
       "    }\n",
       "\n",
       "    .dataframe tbody tr th {\n",
       "        vertical-align: top;\n",
       "    }\n",
       "\n",
       "    .dataframe thead th {\n",
       "        text-align: right;\n",
       "    }\n",
       "</style>\n",
       "<table border=\"1\" class=\"dataframe\">\n",
       "  <thead>\n",
       "    <tr style=\"text-align: right;\">\n",
       "      <th></th>\n",
       "      <th>rooms</th>\n",
       "      <th>size</th>\n",
       "      <th>level</th>\n",
       "      <th>max_levels</th>\n",
       "      <th>price</th>\n",
       "    </tr>\n",
       "  </thead>\n",
       "  <tbody>\n",
       "    <tr>\n",
       "      <th>rooms</th>\n",
       "      <td>1.000000</td>\n",
       "      <td>0.193439</td>\n",
       "      <td>0.138136</td>\n",
       "      <td>0.182642</td>\n",
       "      <td>0.552652</td>\n",
       "    </tr>\n",
       "    <tr>\n",
       "      <th>size</th>\n",
       "      <td>0.193439</td>\n",
       "      <td>1.000000</td>\n",
       "      <td>0.031107</td>\n",
       "      <td>0.050018</td>\n",
       "      <td>0.177167</td>\n",
       "    </tr>\n",
       "    <tr>\n",
       "      <th>level</th>\n",
       "      <td>0.138136</td>\n",
       "      <td>0.031107</td>\n",
       "      <td>1.000000</td>\n",
       "      <td>0.592929</td>\n",
       "      <td>0.059356</td>\n",
       "    </tr>\n",
       "    <tr>\n",
       "      <th>max_levels</th>\n",
       "      <td>0.182642</td>\n",
       "      <td>0.050018</td>\n",
       "      <td>0.592929</td>\n",
       "      <td>1.000000</td>\n",
       "      <td>0.218754</td>\n",
       "    </tr>\n",
       "    <tr>\n",
       "      <th>price</th>\n",
       "      <td>0.552652</td>\n",
       "      <td>0.177167</td>\n",
       "      <td>0.059356</td>\n",
       "      <td>0.218754</td>\n",
       "      <td>1.000000</td>\n",
       "    </tr>\n",
       "  </tbody>\n",
       "</table>\n",
       "</div>"
      ],
      "text/plain": [
       "               rooms      size     level  max_levels     price\n",
       "rooms       1.000000  0.193439  0.138136    0.182642  0.552652\n",
       "size        0.193439  1.000000  0.031107    0.050018  0.177167\n",
       "level       0.138136  0.031107  1.000000    0.592929  0.059356\n",
       "max_levels  0.182642  0.050018  0.592929    1.000000  0.218754\n",
       "price       0.552652  0.177167  0.059356    0.218754  1.000000"
      ]
     },
     "execution_count": 20,
     "metadata": {},
     "output_type": "execute_result"
    }
   ],
   "source": [
    "df6.corr()"
   ]
  },
  {
   "cell_type": "code",
   "execution_count": 21,
   "id": "60fb75b6",
   "metadata": {
    "execution": {
     "iopub.execute_input": "2023-04-07T11:19:55.476365Z",
     "iopub.status.busy": "2023-04-07T11:19:55.475592Z",
     "iopub.status.idle": "2023-04-07T11:19:55.479718Z",
     "shell.execute_reply": "2023-04-07T11:19:55.478723Z"
    },
    "papermill": {
     "duration": 0.027013,
     "end_time": "2023-04-07T11:19:55.481969",
     "exception": false,
     "start_time": "2023-04-07T11:19:55.454956",
     "status": "completed"
    },
    "tags": []
   },
   "outputs": [],
   "source": [
    "# cols = ['price','size','rooms','level', 'max_levels']\n",
    "# sns.pairplot(df6[cols], height=5)\n",
    "# plt.show()"
   ]
  },
  {
   "cell_type": "markdown",
   "id": "f2bd8b7d",
   "metadata": {
    "papermill": {
     "duration": 0.019908,
     "end_time": "2023-04-07T11:19:55.522014",
     "exception": false,
     "start_time": "2023-04-07T11:19:55.502106",
     "status": "completed"
    },
    "tags": []
   },
   "source": [
    "As we can see, the **strongest correlation** with the *price column* is in the *size column*."
   ]
  },
  {
   "cell_type": "code",
   "execution_count": 22,
   "id": "aa905592",
   "metadata": {
    "execution": {
     "iopub.execute_input": "2023-04-07T11:19:55.563327Z",
     "iopub.status.busy": "2023-04-07T11:19:55.562483Z",
     "iopub.status.idle": "2023-04-07T11:19:55.569619Z",
     "shell.execute_reply": "2023-04-07T11:19:55.568750Z"
    },
    "papermill": {
     "duration": 0.030195,
     "end_time": "2023-04-07T11:19:55.571895",
     "exception": false,
     "start_time": "2023-04-07T11:19:55.541700",
     "status": "completed"
    },
    "tags": []
   },
   "outputs": [],
   "source": [
    "df9 = df6.drop(df6[(df6['size'] < 20) & (df6['rooms'] > 1)].index)"
   ]
  },
  {
   "cell_type": "code",
   "execution_count": 23,
   "id": "27e2c213",
   "metadata": {
    "execution": {
     "iopub.execute_input": "2023-04-07T11:19:55.614056Z",
     "iopub.status.busy": "2023-04-07T11:19:55.612563Z",
     "iopub.status.idle": "2023-04-07T11:19:55.874821Z",
     "shell.execute_reply": "2023-04-07T11:19:55.873786Z"
    },
    "papermill": {
     "duration": 0.285257,
     "end_time": "2023-04-07T11:19:55.877121",
     "exception": false,
     "start_time": "2023-04-07T11:19:55.591864",
     "status": "completed"
    },
    "tags": []
   },
   "outputs": [
    {
     "data": {
      "image/png": "[encoded data removed]",
      "text/plain": [
       "<Figure size 600x400 with 1 Axes>"
      ]
     },
     "metadata": {},
     "output_type": "display_data"
    }
   ],
   "source": [
    "df9.plot(kind='scatter', x=\"size\", y=\"price\", alpha = 0.5, figsize=(6,4))\n",
    "plt.show()"
   ]
  },
  {
   "cell_type": "markdown",
   "id": "c20b000d",
   "metadata": {
    "papermill": {
     "duration": 0.020362,
     "end_time": "2023-04-07T11:19:55.918290",
     "exception": false,
     "start_time": "2023-04-07T11:19:55.897928",
     "status": "completed"
    },
    "tags": []
   },
   "source": [
    "Now we change the value **\"Dogovornaya\"** in the df1 dataframe."
   ]
  },
  {
   "cell_type": "code",
   "execution_count": 24,
   "id": "3fe1bcea",
   "metadata": {
    "execution": {
     "iopub.execute_input": "2023-04-07T11:19:55.961791Z",
     "iopub.status.busy": "2023-04-07T11:19:55.960755Z",
     "iopub.status.idle": "2023-04-07T11:19:55.967050Z",
     "shell.execute_reply": "2023-04-07T11:19:55.966126Z"
    },
    "papermill": {
     "duration": 0.029902,
     "end_time": "2023-04-07T11:19:55.969089",
     "exception": false,
     "start_time": "2023-04-07T11:19:55.939187",
     "status": "completed"
    },
    "tags": []
   },
   "outputs": [],
   "source": [
    "df7 = df1.replace(\"Договорная\", np.NaN)"
   ]
  },
  {
   "cell_type": "code",
   "execution_count": 25,
   "id": "694dc6d7",
   "metadata": {
    "execution": {
     "iopub.execute_input": "2023-04-07T11:19:56.011579Z",
     "iopub.status.busy": "2023-04-07T11:19:56.010701Z",
     "iopub.status.idle": "2023-04-07T11:19:56.020036Z",
     "shell.execute_reply": "2023-04-07T11:19:56.019127Z"
    },
    "papermill": {
     "duration": 0.033055,
     "end_time": "2023-04-07T11:19:56.022340",
     "exception": false,
     "start_time": "2023-04-07T11:19:55.989285",
     "status": "completed"
    },
    "tags": []
   },
   "outputs": [],
   "source": [
    "df8 = df7.astype({'size': 'float64'})\n",
    "df91 = df8.sort_values(by=['size'])"
   ]
  },
  {
   "cell_type": "code",
   "execution_count": 26,
   "id": "938bd0df",
   "metadata": {
    "execution": {
     "iopub.execute_input": "2023-04-07T11:19:56.066502Z",
     "iopub.status.busy": "2023-04-07T11:19:56.065984Z",
     "iopub.status.idle": "2023-04-07T11:19:56.075260Z",
     "shell.execute_reply": "2023-04-07T11:19:56.074372Z"
    },
    "papermill": {
     "duration": 0.032629,
     "end_time": "2023-04-07T11:19:56.077305",
     "exception": false,
     "start_time": "2023-04-07T11:19:56.044676",
     "status": "completed"
    },
    "tags": []
   },
   "outputs": [],
   "source": [
    "df10 = df91.fillna(method='ffill')"
   ]
  },
  {
   "cell_type": "code",
   "execution_count": 27,
   "id": "a458b78c",
   "metadata": {
    "execution": {
     "iopub.execute_input": "2023-04-07T11:19:56.119752Z",
     "iopub.status.busy": "2023-04-07T11:19:56.119432Z",
     "iopub.status.idle": "2023-04-07T11:19:56.135675Z",
     "shell.execute_reply": "2023-04-07T11:19:56.134302Z"
    },
    "papermill": {
     "duration": 0.03998,
     "end_time": "2023-04-07T11:19:56.137753",
     "exception": false,
     "start_time": "2023-04-07T11:19:56.097773",
     "status": "completed"
    },
    "tags": []
   },
   "outputs": [
    {
     "name": "stdout",
     "output_type": "stream",
     "text": [
      "<class 'pandas.core.frame.DataFrame'>\n",
      "Int64Index: 7565 entries, 1588 to 2547\n",
      "Data columns (total 7 columns):\n",
      " #   Column      Non-Null Count  Dtype  \n",
      "---  ------      --------------  -----  \n",
      " 0   location    7565 non-null   object \n",
      " 1   district    7565 non-null   object \n",
      " 2   rooms       7565 non-null   int64  \n",
      " 3   size        7565 non-null   float64\n",
      " 4   level       7565 non-null   int64  \n",
      " 5   max_levels  7565 non-null   int64  \n",
      " 6   price       7565 non-null   int64  \n",
      "dtypes: float64(1), int64(4), object(2)\n",
      "memory usage: 472.8+ KB\n"
     ]
    }
   ],
   "source": [
    "df11 = df10.astype({'price': 'int64'})\n",
    "df11.info()"
   ]
  },
  {
   "cell_type": "markdown",
   "id": "23e390d6",
   "metadata": {
    "papermill": {
     "duration": 0.020364,
     "end_time": "2023-04-07T11:19:56.178691",
     "exception": false,
     "start_time": "2023-04-07T11:19:56.158327",
     "status": "completed"
    },
    "tags": []
   },
   "source": [
    "Drop duplicates"
   ]
  },
  {
   "cell_type": "code",
   "execution_count": 28,
   "id": "7850e850",
   "metadata": {
    "execution": {
     "iopub.execute_input": "2023-04-07T11:19:56.221384Z",
     "iopub.status.busy": "2023-04-07T11:19:56.220432Z",
     "iopub.status.idle": "2023-04-07T11:19:56.233694Z",
     "shell.execute_reply": "2023-04-07T11:19:56.232728Z"
    },
    "papermill": {
     "duration": 0.036903,
     "end_time": "2023-04-07T11:19:56.235811",
     "exception": false,
     "start_time": "2023-04-07T11:19:56.198908",
     "status": "completed"
    },
    "tags": []
   },
   "outputs": [],
   "source": [
    "df12 = df11.drop_duplicates()"
   ]
  },
  {
   "cell_type": "code",
   "execution_count": 29,
   "id": "76365e27",
   "metadata": {
    "execution": {
     "iopub.execute_input": "2023-04-07T11:19:56.278467Z",
     "iopub.status.busy": "2023-04-07T11:19:56.277592Z",
     "iopub.status.idle": "2023-04-07T11:19:56.290651Z",
     "shell.execute_reply": "2023-04-07T11:19:56.289289Z"
    },
    "papermill": {
     "duration": 0.036653,
     "end_time": "2023-04-07T11:19:56.292884",
     "exception": false,
     "start_time": "2023-04-07T11:19:56.256231",
     "status": "completed"
    },
    "tags": []
   },
   "outputs": [
    {
     "name": "stderr",
     "output_type": "stream",
     "text": [
      "/opt/conda/lib/python3.7/site-packages/ipykernel_launcher.py:2: SettingWithCopyWarning: \n",
      "A value is trying to be set on a copy of a slice from a DataFrame\n",
      "\n",
      "See the caveats in the documentation: https://pandas.pydata.org/pandas-docs/stable/user_guide/indexing.html#returning-a-view-versus-a-copy\n",
      "  \n"
     ]
    }
   ],
   "source": [
    "df13 = df12.drop([1827, 2268, 2547, 3089, 4089, 4411, 4615, 5456, 7421,1831])\n",
    "df13['size'][[981, 2662, 4784, 7043]] = df13['size'][[981, 2662, 4784, 7043]].map(lambda x: x / 100)\n",
    "df14 = df13[(df13['price'] < 600_000)]\n",
    "df15 = df14[df14['size'] < 300]"
   ]
  },
  {
   "cell_type": "code",
   "execution_count": 30,
   "id": "92b2d1ea",
   "metadata": {
    "execution": {
     "iopub.execute_input": "2023-04-07T11:19:56.335866Z",
     "iopub.status.busy": "2023-04-07T11:19:56.335029Z",
     "iopub.status.idle": "2023-04-07T11:19:56.349779Z",
     "shell.execute_reply": "2023-04-07T11:19:56.348722Z"
    },
    "papermill": {
     "duration": 0.038863,
     "end_time": "2023-04-07T11:19:56.352216",
     "exception": false,
     "start_time": "2023-04-07T11:19:56.313353",
     "status": "completed"
    },
    "tags": []
   },
   "outputs": [
    {
     "data": {
      "text/html": [
       "<div>\n",
       "<style scoped>\n",
       "    .dataframe tbody tr th:only-of-type {\n",
       "        vertical-align: middle;\n",
       "    }\n",
       "\n",
       "    .dataframe tbody tr th {\n",
       "        vertical-align: top;\n",
       "    }\n",
       "\n",
       "    .dataframe thead th {\n",
       "        text-align: right;\n",
       "    }\n",
       "</style>\n",
       "<table border=\"1\" class=\"dataframe\">\n",
       "  <thead>\n",
       "    <tr style=\"text-align: right;\">\n",
       "      <th></th>\n",
       "      <th>location</th>\n",
       "      <th>district</th>\n",
       "      <th>rooms</th>\n",
       "      <th>size</th>\n",
       "      <th>level</th>\n",
       "      <th>max_levels</th>\n",
       "      <th>price</th>\n",
       "    </tr>\n",
       "  </thead>\n",
       "  <tbody>\n",
       "    <tr>\n",
       "      <th>1588</th>\n",
       "      <td>город Ташкент, Янгихаётский район, Yangi hayot...</td>\n",
       "      <td>Янгихаётский</td>\n",
       "      <td>5</td>\n",
       "      <td>1.00</td>\n",
       "      <td>6</td>\n",
       "      <td>9</td>\n",
       "      <td>45000</td>\n",
       "    </tr>\n",
       "    <tr>\n",
       "      <th>5496</th>\n",
       "      <td>город Ташкент, Учтепинский район, Чиланзар 25-...</td>\n",
       "      <td>Учтепинский</td>\n",
       "      <td>2</td>\n",
       "      <td>1.00</td>\n",
       "      <td>2</td>\n",
       "      <td>5</td>\n",
       "      <td>35000</td>\n",
       "    </tr>\n",
       "    <tr>\n",
       "      <th>2363</th>\n",
       "      <td>город Ташкент, Мирабадский район, Nurli zamin ...</td>\n",
       "      <td>Мирабадский</td>\n",
       "      <td>4</td>\n",
       "      <td>3.00</td>\n",
       "      <td>1</td>\n",
       "      <td>1</td>\n",
       "      <td>50000</td>\n",
       "    </tr>\n",
       "    <tr>\n",
       "      <th>4690</th>\n",
       "      <td>город Ташкент, Мирабадский район, 1-й проезд Х...</td>\n",
       "      <td>Мирабадский</td>\n",
       "      <td>5</td>\n",
       "      <td>3.80</td>\n",
       "      <td>2</td>\n",
       "      <td>2</td>\n",
       "      <td>90000</td>\n",
       "    </tr>\n",
       "    <tr>\n",
       "      <th>4053</th>\n",
       "      <td>город Ташкент, Мирзо-Улугбекский район, Элобод</td>\n",
       "      <td>Мирзо-Улугбекский</td>\n",
       "      <td>2</td>\n",
       "      <td>4.00</td>\n",
       "      <td>1</td>\n",
       "      <td>3</td>\n",
       "      <td>26000</td>\n",
       "    </tr>\n",
       "    <tr>\n",
       "      <th>...</th>\n",
       "      <td>...</td>\n",
       "      <td>...</td>\n",
       "      <td>...</td>\n",
       "      <td>...</td>\n",
       "      <td>...</td>\n",
       "      <td>...</td>\n",
       "      <td>...</td>\n",
       "    </tr>\n",
       "    <tr>\n",
       "      <th>4622</th>\n",
       "      <td>город Ташкент, Яккасарайский район, Ракат</td>\n",
       "      <td>Яккасарайский</td>\n",
       "      <td>3</td>\n",
       "      <td>290.00</td>\n",
       "      <td>1</td>\n",
       "      <td>5</td>\n",
       "      <td>270000</td>\n",
       "    </tr>\n",
       "    <tr>\n",
       "      <th>2662</th>\n",
       "      <td>город Ташкент, Учтепинский район, Учтепинский ...</td>\n",
       "      <td>Учтепинский</td>\n",
       "      <td>1</td>\n",
       "      <td>34.48</td>\n",
       "      <td>5</td>\n",
       "      <td>5</td>\n",
       "      <td>25000</td>\n",
       "    </tr>\n",
       "    <tr>\n",
       "      <th>981</th>\n",
       "      <td>город Ташкент, Мирабадский район, Массив Куйлю...</td>\n",
       "      <td>Мирабадский</td>\n",
       "      <td>3</td>\n",
       "      <td>73.59</td>\n",
       "      <td>2</td>\n",
       "      <td>4</td>\n",
       "      <td>46500</td>\n",
       "    </tr>\n",
       "    <tr>\n",
       "      <th>4784</th>\n",
       "      <td>город Ташкент, Мирабадский район, Массив Куйлюк1</td>\n",
       "      <td>Мирабадский</td>\n",
       "      <td>3</td>\n",
       "      <td>73.59</td>\n",
       "      <td>2</td>\n",
       "      <td>4</td>\n",
       "      <td>46500</td>\n",
       "    </tr>\n",
       "    <tr>\n",
       "      <th>7043</th>\n",
       "      <td>город Ташкент, Олмазорский район, Олмазорский ...</td>\n",
       "      <td>Олмазорский</td>\n",
       "      <td>4</td>\n",
       "      <td>74.07</td>\n",
       "      <td>4</td>\n",
       "      <td>4</td>\n",
       "      <td>44000</td>\n",
       "    </tr>\n",
       "  </tbody>\n",
       "</table>\n",
       "<p>6830 rows × 7 columns</p>\n",
       "</div>"
      ],
      "text/plain": [
       "                                               location           district  \\\n",
       "1588  город Ташкент, Янгихаётский район, Yangi hayot...       Янгихаётский   \n",
       "5496  город Ташкент, Учтепинский район, Чиланзар 25-...        Учтепинский   \n",
       "2363  город Ташкент, Мирабадский район, Nurli zamin ...        Мирабадский   \n",
       "4690  город Ташкент, Мирабадский район, 1-й проезд Х...        Мирабадский   \n",
       "4053     город Ташкент, Мирзо-Улугбекский район, Элобод  Мирзо-Улугбекский   \n",
       "...                                                 ...                ...   \n",
       "4622          город Ташкент, Яккасарайский район, Ракат      Яккасарайский   \n",
       "2662  город Ташкент, Учтепинский район, Учтепинский ...        Учтепинский   \n",
       "981   город Ташкент, Мирабадский район, Массив Куйлю...        Мирабадский   \n",
       "4784   город Ташкент, Мирабадский район, Массив Куйлюк1        Мирабадский   \n",
       "7043  город Ташкент, Олмазорский район, Олмазорский ...        Олмазорский   \n",
       "\n",
       "      rooms    size  level  max_levels   price  \n",
       "1588      5    1.00      6           9   45000  \n",
       "5496      2    1.00      2           5   35000  \n",
       "2363      4    3.00      1           1   50000  \n",
       "4690      5    3.80      2           2   90000  \n",
       "4053      2    4.00      1           3   26000  \n",
       "...     ...     ...    ...         ...     ...  \n",
       "4622      3  290.00      1           5  270000  \n",
       "2662      1   34.48      5           5   25000  \n",
       "981       3   73.59      2           4   46500  \n",
       "4784      3   73.59      2           4   46500  \n",
       "7043      4   74.07      4           4   44000  \n",
       "\n",
       "[6830 rows x 7 columns]"
      ]
     },
     "execution_count": 30,
     "metadata": {},
     "output_type": "execute_result"
    }
   ],
   "source": [
    "df15"
   ]
  },
  {
   "cell_type": "markdown",
   "id": "826e8387",
   "metadata": {
    "papermill": {
     "duration": 0.020475,
     "end_time": "2023-04-07T11:19:56.393572",
     "exception": false,
     "start_time": "2023-04-07T11:19:56.373097",
     "status": "completed"
    },
    "tags": []
   },
   "source": []
  },
  {
   "cell_type": "code",
   "execution_count": 31,
   "id": "ca1b8a78",
   "metadata": {
    "execution": {
     "iopub.execute_input": "2023-04-07T11:19:56.436205Z",
     "iopub.status.busy": "2023-04-07T11:19:56.435932Z",
     "iopub.status.idle": "2023-04-07T11:19:56.651857Z",
     "shell.execute_reply": "2023-04-07T11:19:56.650815Z"
    },
    "papermill": {
     "duration": 0.239785,
     "end_time": "2023-04-07T11:19:56.654079",
     "exception": false,
     "start_time": "2023-04-07T11:19:56.414294",
     "status": "completed"
    },
    "tags": []
   },
   "outputs": [
    {
     "data": {
      "image/png": "[encoded data removed]",
      "text/plain": [
       "<Figure size 600x400 with 1 Axes>"
      ]
     },
     "metadata": {},
     "output_type": "display_data"
    }
   ],
   "source": [
    "df15.plot(kind='scatter', x=\"size\", y=\"price\", alpha = 0.5, figsize=(6,4))\n",
    "plt.show()"
   ]
  },
  {
   "cell_type": "markdown",
   "id": "9ddb062c",
   "metadata": {
    "papermill": {
     "duration": 0.021111,
     "end_time": "2023-04-07T11:19:56.697404",
     "exception": false,
     "start_time": "2023-04-07T11:19:56.676293",
     "status": "completed"
    },
    "tags": []
   },
   "source": [
    "We continue the visualization"
   ]
  },
  {
   "cell_type": "code",
   "execution_count": 32,
   "id": "8ea1d3da",
   "metadata": {
    "execution": {
     "iopub.execute_input": "2023-04-07T11:19:56.741994Z",
     "iopub.status.busy": "2023-04-07T11:19:56.741673Z",
     "iopub.status.idle": "2023-04-07T11:19:57.356792Z",
     "shell.execute_reply": "2023-04-07T11:19:57.355806Z"
    },
    "papermill": {
     "duration": 0.639925,
     "end_time": "2023-04-07T11:19:57.359174",
     "exception": false,
     "start_time": "2023-04-07T11:19:56.719249",
     "status": "completed"
    },
    "tags": []
   },
   "outputs": [
    {
     "data": {
      "image/png": "[encoded data removed]",
      "text/plain": [
       "<Figure size 1200x900 with 1 Axes>"
      ]
     },
     "metadata": {},
     "output_type": "display_data"
    }
   ],
   "source": [
    "plt.figure(figsize=(12,9))\n",
    "sns.barplot(x=df15.district, y=df15['price'])\n",
    "\n",
    "plt.title(\"Price of houses of the Tashkent city\")\n",
    "plt.xlabel(\"Disctrict\")\n",
    "plt.ylabel(\"Price\")\n",
    "plt.grid() # Chizmaga gorizontal va vertikal chiziqlar (setka) qo'shish\n",
    "plt.xticks(rotation=30)\n",
    "plt.show()"
   ]
  },
  {
   "cell_type": "markdown",
   "id": "017fd1f7",
   "metadata": {
    "papermill": {
     "duration": 0.022317,
     "end_time": "2023-04-07T11:19:57.404906",
     "exception": false,
     "start_time": "2023-04-07T11:19:57.382589",
     "status": "completed"
    },
    "tags": []
   },
   "source": [
    "We analyze the balance in the Size column."
   ]
  },
  {
   "cell_type": "code",
   "execution_count": 33,
   "id": "bf33efb7",
   "metadata": {
    "execution": {
     "iopub.execute_input": "2023-04-07T11:19:57.452063Z",
     "iopub.status.busy": "2023-04-07T11:19:57.450956Z",
     "iopub.status.idle": "2023-04-07T11:19:57.679679Z",
     "shell.execute_reply": "2023-04-07T11:19:57.678752Z"
    },
    "papermill": {
     "duration": 0.254833,
     "end_time": "2023-04-07T11:19:57.682041",
     "exception": false,
     "start_time": "2023-04-07T11:19:57.427208",
     "status": "completed"
    },
    "tags": []
   },
   "outputs": [
    {
     "name": "stderr",
     "output_type": "stream",
     "text": [
      "/opt/conda/lib/python3.7/site-packages/ipykernel_launcher.py:1: SettingWithCopyWarning: \n",
      "A value is trying to be set on a copy of a slice from a DataFrame.\n",
      "Try using .loc[row_indexer,col_indexer] = value instead\n",
      "\n",
      "See the caveats in the documentation: https://pandas.pydata.org/pandas-docs/stable/user_guide/indexing.html#returning-a-view-versus-a-copy\n",
      "  \"\"\"Entry point for launching an IPython kernel.\n"
     ]
    },
    {
     "data": {
      "image/png": "[encoded data removed]",
      "text/plain": [
       "<Figure size 900x600 with 1 Axes>"
      ]
     },
     "metadata": {},
     "output_type": "display_data"
    }
   ],
   "source": [
    "df15['size_cat'] = pd.cut(df15['size'], bins=[0., 25.0, 50.0, 75.0, 100.0, np.inf], labels=[1,2,3,4,5])\n",
    "df15['size_cat'].hist(figsize=(9,6))\n",
    "plt.show()"
   ]
  },
  {
   "cell_type": "markdown",
   "id": "c80cf713",
   "metadata": {
    "papermill": {
     "duration": 0.027397,
     "end_time": "2023-04-07T11:19:57.732726",
     "exception": false,
     "start_time": "2023-04-07T11:19:57.705329",
     "status": "completed"
    },
    "tags": []
   },
   "source": [
    "<h4>We divide the data into a **balanced** *train* and a *test* set.</h4>"
   ]
  },
  {
   "cell_type": "code",
   "execution_count": 34,
   "id": "a42e3bd6",
   "metadata": {
    "execution": {
     "iopub.execute_input": "2023-04-07T11:19:57.780996Z",
     "iopub.status.busy": "2023-04-07T11:19:57.780586Z",
     "iopub.status.idle": "2023-04-07T11:19:57.875759Z",
     "shell.execute_reply": "2023-04-07T11:19:57.874610Z"
    },
    "papermill": {
     "duration": 0.122501,
     "end_time": "2023-04-07T11:19:57.878618",
     "exception": false,
     "start_time": "2023-04-07T11:19:57.756117",
     "status": "completed"
    },
    "tags": []
   },
   "outputs": [
    {
     "name": "stderr",
     "output_type": "stream",
     "text": [
      "/opt/conda/lib/python3.7/site-packages/pandas/core/frame.py:4913: SettingWithCopyWarning: \n",
      "A value is trying to be set on a copy of a slice from a DataFrame\n",
      "\n",
      "See the caveats in the documentation: https://pandas.pydata.org/pandas-docs/stable/user_guide/indexing.html#returning-a-view-versus-a-copy\n",
      "  errors=errors,\n"
     ]
    }
   ],
   "source": [
    "from sklearn.model_selection import StratifiedShuffleSplit\n",
    "stratified_split = StratifiedShuffleSplit(n_splits=1, test_size=0.2, random_state=42)\n",
    "# stratified_split.split funksiyasi indekslar qaytaradi\n",
    "for train_index, test_index in stratified_split.split(df15,df15['size_cat']):\n",
    "    strat_train_set = df15.iloc[train_index]\n",
    "    strat_test_set = df15.iloc[test_index]\n",
    "    \n",
    "strat_train_set.drop('size_cat', axis=1, inplace=True)\n",
    "strat_test_set.drop('size_cat', axis=1, inplace=True)"
   ]
  },
  {
   "cell_type": "code",
   "execution_count": 35,
   "id": "8f5bb166",
   "metadata": {
    "execution": {
     "iopub.execute_input": "2023-04-07T11:19:57.927214Z",
     "iopub.status.busy": "2023-04-07T11:19:57.925492Z",
     "iopub.status.idle": "2023-04-07T11:19:57.932799Z",
     "shell.execute_reply": "2023-04-07T11:19:57.931866Z"
    },
    "papermill": {
     "duration": 0.033155,
     "end_time": "2023-04-07T11:19:57.934940",
     "exception": false,
     "start_time": "2023-04-07T11:19:57.901785",
     "status": "completed"
    },
    "tags": []
   },
   "outputs": [],
   "source": [
    "strat_train_set.drop(\"location\", axis=1, inplace=True)\n",
    "strat_test_set.drop(\"location\", axis=1, inplace=True)"
   ]
  },
  {
   "cell_type": "code",
   "execution_count": 36,
   "id": "8c4e6cdf",
   "metadata": {
    "execution": {
     "iopub.execute_input": "2023-04-07T11:19:57.982195Z",
     "iopub.status.busy": "2023-04-07T11:19:57.981224Z",
     "iopub.status.idle": "2023-04-07T11:19:57.995530Z",
     "shell.execute_reply": "2023-04-07T11:19:57.994483Z"
    },
    "papermill": {
     "duration": 0.040219,
     "end_time": "2023-04-07T11:19:57.997673",
     "exception": false,
     "start_time": "2023-04-07T11:19:57.957454",
     "status": "completed"
    },
    "tags": []
   },
   "outputs": [
    {
     "data": {
      "text/html": [
       "<div>\n",
       "<style scoped>\n",
       "    .dataframe tbody tr th:only-of-type {\n",
       "        vertical-align: middle;\n",
       "    }\n",
       "\n",
       "    .dataframe tbody tr th {\n",
       "        vertical-align: top;\n",
       "    }\n",
       "\n",
       "    .dataframe thead th {\n",
       "        text-align: right;\n",
       "    }\n",
       "</style>\n",
       "<table border=\"1\" class=\"dataframe\">\n",
       "  <thead>\n",
       "    <tr style=\"text-align: right;\">\n",
       "      <th></th>\n",
       "      <th>district</th>\n",
       "      <th>rooms</th>\n",
       "      <th>size</th>\n",
       "      <th>level</th>\n",
       "      <th>max_levels</th>\n",
       "      <th>price</th>\n",
       "    </tr>\n",
       "  </thead>\n",
       "  <tbody>\n",
       "    <tr>\n",
       "      <th>3867</th>\n",
       "      <td>Мирабадский</td>\n",
       "      <td>3</td>\n",
       "      <td>105.0</td>\n",
       "      <td>7</td>\n",
       "      <td>9</td>\n",
       "      <td>125000</td>\n",
       "    </tr>\n",
       "    <tr>\n",
       "      <th>264</th>\n",
       "      <td>Мирзо-Улугбекский</td>\n",
       "      <td>4</td>\n",
       "      <td>91.0</td>\n",
       "      <td>1</td>\n",
       "      <td>5</td>\n",
       "      <td>75000</td>\n",
       "    </tr>\n",
       "    <tr>\n",
       "      <th>2787</th>\n",
       "      <td>Мирабадский</td>\n",
       "      <td>4</td>\n",
       "      <td>100.0</td>\n",
       "      <td>7</td>\n",
       "      <td>9</td>\n",
       "      <td>105000</td>\n",
       "    </tr>\n",
       "    <tr>\n",
       "      <th>1253</th>\n",
       "      <td>Чиланзарский</td>\n",
       "      <td>4</td>\n",
       "      <td>100.0</td>\n",
       "      <td>9</td>\n",
       "      <td>9</td>\n",
       "      <td>48000</td>\n",
       "    </tr>\n",
       "    <tr>\n",
       "      <th>4707</th>\n",
       "      <td>Юнусабадский</td>\n",
       "      <td>2</td>\n",
       "      <td>55.0</td>\n",
       "      <td>1</td>\n",
       "      <td>9</td>\n",
       "      <td>41000</td>\n",
       "    </tr>\n",
       "    <tr>\n",
       "      <th>...</th>\n",
       "      <td>...</td>\n",
       "      <td>...</td>\n",
       "      <td>...</td>\n",
       "      <td>...</td>\n",
       "      <td>...</td>\n",
       "      <td>...</td>\n",
       "    </tr>\n",
       "    <tr>\n",
       "      <th>7481</th>\n",
       "      <td>Сергелийский</td>\n",
       "      <td>3</td>\n",
       "      <td>82.0</td>\n",
       "      <td>2</td>\n",
       "      <td>9</td>\n",
       "      <td>33000</td>\n",
       "    </tr>\n",
       "    <tr>\n",
       "      <th>1203</th>\n",
       "      <td>Чиланзарский</td>\n",
       "      <td>2</td>\n",
       "      <td>46.0</td>\n",
       "      <td>2</td>\n",
       "      <td>4</td>\n",
       "      <td>35000</td>\n",
       "    </tr>\n",
       "    <tr>\n",
       "      <th>2487</th>\n",
       "      <td>Чиланзарский</td>\n",
       "      <td>3</td>\n",
       "      <td>70.0</td>\n",
       "      <td>3</td>\n",
       "      <td>3</td>\n",
       "      <td>40000</td>\n",
       "    </tr>\n",
       "    <tr>\n",
       "      <th>7460</th>\n",
       "      <td>Сергелийский</td>\n",
       "      <td>3</td>\n",
       "      <td>78.0</td>\n",
       "      <td>5</td>\n",
       "      <td>5</td>\n",
       "      <td>42000</td>\n",
       "    </tr>\n",
       "    <tr>\n",
       "      <th>6627</th>\n",
       "      <td>Шайхантахурский</td>\n",
       "      <td>5</td>\n",
       "      <td>185.0</td>\n",
       "      <td>2</td>\n",
       "      <td>5</td>\n",
       "      <td>135000</td>\n",
       "    </tr>\n",
       "  </tbody>\n",
       "</table>\n",
       "<p>1366 rows × 6 columns</p>\n",
       "</div>"
      ],
      "text/plain": [
       "               district  rooms   size  level  max_levels   price\n",
       "3867        Мирабадский      3  105.0      7           9  125000\n",
       "264   Мирзо-Улугбекский      4   91.0      1           5   75000\n",
       "2787        Мирабадский      4  100.0      7           9  105000\n",
       "1253       Чиланзарский      4  100.0      9           9   48000\n",
       "4707       Юнусабадский      2   55.0      1           9   41000\n",
       "...                 ...    ...    ...    ...         ...     ...\n",
       "7481       Сергелийский      3   82.0      2           9   33000\n",
       "1203       Чиланзарский      2   46.0      2           4   35000\n",
       "2487       Чиланзарский      3   70.0      3           3   40000\n",
       "7460       Сергелийский      3   78.0      5           5   42000\n",
       "6627    Шайхантахурский      5  185.0      2           5  135000\n",
       "\n",
       "[1366 rows x 6 columns]"
      ]
     },
     "execution_count": 36,
     "metadata": {},
     "output_type": "execute_result"
    }
   ],
   "source": [
    "strat_test_set"
   ]
  },
  {
   "cell_type": "markdown",
   "id": "5403075e",
   "metadata": {
    "papermill": {
     "duration": 0.022661,
     "end_time": "2023-04-07T11:19:58.043387",
     "exception": false,
     "start_time": "2023-04-07T11:19:58.020726",
     "status": "completed"
    },
    "tags": []
   },
   "source": [
    "We choose *balanced sets* for work.\n",
    "\n",
    "This time we separate the *price* column (which we need to optimize) as well. This is because the changes applied to the rest of the columns are not applied to the label."
   ]
  },
  {
   "cell_type": "code",
   "execution_count": 37,
   "id": "da224316",
   "metadata": {
    "execution": {
     "iopub.execute_input": "2023-04-07T11:19:58.090709Z",
     "iopub.status.busy": "2023-04-07T11:19:58.090364Z",
     "iopub.status.idle": "2023-04-07T11:19:58.096487Z",
     "shell.execute_reply": "2023-04-07T11:19:58.095577Z"
    },
    "papermill": {
     "duration": 0.03218,
     "end_time": "2023-04-07T11:19:58.098502",
     "exception": false,
     "start_time": "2023-04-07T11:19:58.066322",
     "status": "completed"
    },
    "tags": []
   },
   "outputs": [],
   "source": [
    "housing = strat_train_set.drop(\"price\", axis=1)\n",
    "housing_labels = strat_train_set[\"price\"].copy()"
   ]
  },
  {
   "cell_type": "markdown",
   "id": "c652f869",
   "metadata": {
    "papermill": {
     "duration": 0.022778,
     "end_time": "2023-04-07T11:19:58.144246",
     "exception": false,
     "start_time": "2023-04-07T11:19:58.121468",
     "status": "completed"
    },
    "tags": []
   },
   "source": [
    "<h1 style=\"color:white; padding: 20px; background-color: green; display:inline-block\">Changing the shape of text columns</h1>\n",
    "\n",
    "The ocean_proximity column of our dataset is a text column. \n",
    "\n",
    "Let's break down this column to get started."
   ]
  },
  {
   "cell_type": "code",
   "execution_count": 38,
   "id": "c61f65f0",
   "metadata": {
    "execution": {
     "iopub.execute_input": "2023-04-07T11:19:58.192179Z",
     "iopub.status.busy": "2023-04-07T11:19:58.191277Z",
     "iopub.status.idle": "2023-04-07T11:19:58.197511Z",
     "shell.execute_reply": "2023-04-07T11:19:58.196483Z"
    },
    "papermill": {
     "duration": 0.032616,
     "end_time": "2023-04-07T11:19:58.199551",
     "exception": false,
     "start_time": "2023-04-07T11:19:58.166935",
     "status": "completed"
    },
    "tags": []
   },
   "outputs": [],
   "source": [
    "housing_cat = housing[['district']]\n",
    "housing_num = housing.drop(\"district\", axis=1)"
   ]
  },
  {
   "cell_type": "markdown",
   "id": "038758c9",
   "metadata": {
    "papermill": {
     "duration": 0.022838,
     "end_time": "2023-04-07T11:19:58.245773",
     "exception": false,
     "start_time": "2023-04-07T11:19:58.222935",
     "status": "completed"
    },
    "tags": []
   },
   "source": [
    "Using the OneHotEncoder method, each unique value becomes a separate column and we put 1 in the corresponding column and 0 in the rest."
   ]
  },
  {
   "cell_type": "code",
   "execution_count": 39,
   "id": "75a6ac4e",
   "metadata": {
    "execution": {
     "iopub.execute_input": "2023-04-07T11:19:58.293375Z",
     "iopub.status.busy": "2023-04-07T11:19:58.292502Z",
     "iopub.status.idle": "2023-04-07T11:19:58.302634Z",
     "shell.execute_reply": "2023-04-07T11:19:58.301616Z"
    },
    "papermill": {
     "duration": 0.036141,
     "end_time": "2023-04-07T11:19:58.304664",
     "exception": false,
     "start_time": "2023-04-07T11:19:58.268523",
     "status": "completed"
    },
    "tags": []
   },
   "outputs": [
    {
     "data": {
      "text/plain": [
       "array([[0., 0., 1., ..., 0., 0., 0.],\n",
       "       [0., 1., 0., ..., 0., 0., 0.],\n",
       "       [0., 0., 0., ..., 0., 0., 0.],\n",
       "       ...,\n",
       "       [0., 0., 0., ..., 0., 0., 0.],\n",
       "       [0., 0., 0., ..., 0., 0., 0.],\n",
       "       [0., 0., 1., ..., 0., 0., 0.]])"
      ]
     },
     "execution_count": 39,
     "metadata": {},
     "output_type": "execute_result"
    }
   ],
   "source": [
    "from sklearn.preprocessing import OneHotEncoder\n",
    "cat_encoder = OneHotEncoder()\n",
    "housing_cat_1hot = cat_encoder.fit_transform(housing_cat)\n",
    "housing_cat_1hot.toarray()"
   ]
  },
  {
   "cell_type": "code",
   "execution_count": 40,
   "id": "39ac2a6c",
   "metadata": {
    "execution": {
     "iopub.execute_input": "2023-04-07T11:19:58.352248Z",
     "iopub.status.busy": "2023-04-07T11:19:58.351971Z",
     "iopub.status.idle": "2023-04-07T11:19:58.367909Z",
     "shell.execute_reply": "2023-04-07T11:19:58.366891Z"
    },
    "papermill": {
     "duration": 0.042042,
     "end_time": "2023-04-07T11:19:58.370020",
     "exception": false,
     "start_time": "2023-04-07T11:19:58.327978",
     "status": "completed"
    },
    "tags": []
   },
   "outputs": [
    {
     "data": {
      "text/html": [
       "<div>\n",
       "<style scoped>\n",
       "    .dataframe tbody tr th:only-of-type {\n",
       "        vertical-align: middle;\n",
       "    }\n",
       "\n",
       "    .dataframe tbody tr th {\n",
       "        vertical-align: top;\n",
       "    }\n",
       "\n",
       "    .dataframe thead th {\n",
       "        text-align: right;\n",
       "    }\n",
       "</style>\n",
       "<table border=\"1\" class=\"dataframe\">\n",
       "  <thead>\n",
       "    <tr style=\"text-align: right;\">\n",
       "      <th></th>\n",
       "      <th>district</th>\n",
       "      <th>rooms</th>\n",
       "      <th>size</th>\n",
       "      <th>level</th>\n",
       "      <th>max_levels</th>\n",
       "    </tr>\n",
       "  </thead>\n",
       "  <tbody>\n",
       "    <tr>\n",
       "      <th>928</th>\n",
       "      <td>Мирзо-Улугбекский</td>\n",
       "      <td>2</td>\n",
       "      <td>60.0</td>\n",
       "      <td>7</td>\n",
       "      <td>9</td>\n",
       "    </tr>\n",
       "    <tr>\n",
       "      <th>2664</th>\n",
       "      <td>Мирабадский</td>\n",
       "      <td>3</td>\n",
       "      <td>100.0</td>\n",
       "      <td>7</td>\n",
       "      <td>8</td>\n",
       "    </tr>\n",
       "    <tr>\n",
       "      <th>7080</th>\n",
       "      <td>Чиланзарский</td>\n",
       "      <td>2</td>\n",
       "      <td>48.0</td>\n",
       "      <td>2</td>\n",
       "      <td>4</td>\n",
       "    </tr>\n",
       "    <tr>\n",
       "      <th>4281</th>\n",
       "      <td>Мирзо-Улугбекский</td>\n",
       "      <td>3</td>\n",
       "      <td>105.0</td>\n",
       "      <td>5</td>\n",
       "      <td>6</td>\n",
       "    </tr>\n",
       "    <tr>\n",
       "      <th>6504</th>\n",
       "      <td>Мирзо-Улугбекский</td>\n",
       "      <td>2</td>\n",
       "      <td>46.0</td>\n",
       "      <td>4</td>\n",
       "      <td>4</td>\n",
       "    </tr>\n",
       "    <tr>\n",
       "      <th>...</th>\n",
       "      <td>...</td>\n",
       "      <td>...</td>\n",
       "      <td>...</td>\n",
       "      <td>...</td>\n",
       "      <td>...</td>\n",
       "    </tr>\n",
       "    <tr>\n",
       "      <th>3355</th>\n",
       "      <td>Мирзо-Улугбекский</td>\n",
       "      <td>2</td>\n",
       "      <td>70.0</td>\n",
       "      <td>3</td>\n",
       "      <td>6</td>\n",
       "    </tr>\n",
       "    <tr>\n",
       "      <th>3633</th>\n",
       "      <td>Чиланзарский</td>\n",
       "      <td>3</td>\n",
       "      <td>100.0</td>\n",
       "      <td>6</td>\n",
       "      <td>9</td>\n",
       "    </tr>\n",
       "    <tr>\n",
       "      <th>1593</th>\n",
       "      <td>Чиланзарский</td>\n",
       "      <td>4</td>\n",
       "      <td>120.0</td>\n",
       "      <td>5</td>\n",
       "      <td>5</td>\n",
       "    </tr>\n",
       "    <tr>\n",
       "      <th>3742</th>\n",
       "      <td>Чиланзарский</td>\n",
       "      <td>1</td>\n",
       "      <td>42.0</td>\n",
       "      <td>3</td>\n",
       "      <td>4</td>\n",
       "    </tr>\n",
       "    <tr>\n",
       "      <th>3301</th>\n",
       "      <td>Мирзо-Улугбекский</td>\n",
       "      <td>2</td>\n",
       "      <td>53.0</td>\n",
       "      <td>3</td>\n",
       "      <td>4</td>\n",
       "    </tr>\n",
       "  </tbody>\n",
       "</table>\n",
       "<p>5464 rows × 5 columns</p>\n",
       "</div>"
      ],
      "text/plain": [
       "               district  rooms   size  level  max_levels\n",
       "928   Мирзо-Улугбекский      2   60.0      7           9\n",
       "2664        Мирабадский      3  100.0      7           8\n",
       "7080       Чиланзарский      2   48.0      2           4\n",
       "4281  Мирзо-Улугбекский      3  105.0      5           6\n",
       "6504  Мирзо-Улугбекский      2   46.0      4           4\n",
       "...                 ...    ...    ...    ...         ...\n",
       "3355  Мирзо-Улугбекский      2   70.0      3           6\n",
       "3633       Чиланзарский      3  100.0      6           9\n",
       "1593       Чиланзарский      4  120.0      5           5\n",
       "3742       Чиланзарский      1   42.0      3           4\n",
       "3301  Мирзо-Улугбекский      2   53.0      3           4\n",
       "\n",
       "[5464 rows x 5 columns]"
      ]
     },
     "execution_count": 40,
     "metadata": {},
     "output_type": "execute_result"
    }
   ],
   "source": [
    "housing"
   ]
  },
  {
   "cell_type": "markdown",
   "id": "e20f6064",
   "metadata": {
    "papermill": {
     "duration": 0.022992,
     "end_time": "2023-04-07T11:19:58.417180",
     "exception": false,
     "start_time": "2023-04-07T11:19:58.394188",
     "status": "completed"
    },
    "tags": []
   },
   "source": [
    "We can make a **ransformer**"
   ]
  },
  {
   "cell_type": "code",
   "execution_count": 41,
   "id": "9857e61b",
   "metadata": {
    "execution": {
     "iopub.execute_input": "2023-04-07T11:19:58.466793Z",
     "iopub.status.busy": "2023-04-07T11:19:58.466212Z",
     "iopub.status.idle": "2023-04-07T11:19:58.473803Z",
     "shell.execute_reply": "2023-04-07T11:19:58.472824Z"
    },
    "papermill": {
     "duration": 0.033892,
     "end_time": "2023-04-07T11:19:58.475892",
     "exception": false,
     "start_time": "2023-04-07T11:19:58.442000",
     "status": "completed"
    },
    "tags": []
   },
   "outputs": [],
   "source": [
    "from sklearn.base import BaseEstimator, TransformerMixin\n",
    "\n",
    "\n",
    "rooms_ix, size_ix, level_ix, max_levels_ix = 0, 1, 2, 3\n",
    "\n",
    "class CombinedAttributesAdder(BaseEstimator, TransformerMixin):\n",
    "    def __init__(self, add_size_of_per_room = True):\n",
    "        self.add_size_of_per_room = add_size_of_per_room\n",
    "    def fit(self, X, y=None):\n",
    "        return self # bizni funksiyamiz faqat transformer. estimator emas\n",
    "    def transform(self, X):\n",
    "        percent_of_levels = X[:, level_ix] * 100 / X[:, max_levels_ix]\n",
    "        if self.add_size_of_per_room: # add_bedrooms_per_room ustuni ixtiyoriy bo'ladi\n",
    "            size_of_per_room = X[:, size_ix] / X[:, rooms_ix]\n",
    "            return np.c_[X, percent_of_levels, size_of_per_room]\n",
    "        else:\n",
    "            return np.c_[X, percent_of_levels]"
   ]
  },
  {
   "cell_type": "code",
   "execution_count": 42,
   "id": "da3114bb",
   "metadata": {
    "execution": {
     "iopub.execute_input": "2023-04-07T11:19:58.524152Z",
     "iopub.status.busy": "2023-04-07T11:19:58.523348Z",
     "iopub.status.idle": "2023-04-07T11:19:58.531194Z",
     "shell.execute_reply": "2023-04-07T11:19:58.529988Z"
    },
    "papermill": {
     "duration": 0.034264,
     "end_time": "2023-04-07T11:19:58.533341",
     "exception": false,
     "start_time": "2023-04-07T11:19:58.499077",
     "status": "completed"
    },
    "tags": []
   },
   "outputs": [
    {
     "data": {
      "text/plain": [
       "array([ 2.        , 60.        ,  7.        ,  9.        , 77.77777778,\n",
       "       30.        ])"
      ]
     },
     "execution_count": 42,
     "metadata": {},
     "output_type": "execute_result"
    }
   ],
   "source": [
    "attr_adder = CombinedAttributesAdder(add_size_of_per_room=True)\n",
    "housing_extra_attribs = attr_adder.transform(housing_num.values)\n",
    "housing_extra_attribs[0,:]"
   ]
  },
  {
   "cell_type": "code",
   "execution_count": 43,
   "id": "f900b441",
   "metadata": {
    "execution": {
     "iopub.execute_input": "2023-04-07T11:19:58.582191Z",
     "iopub.status.busy": "2023-04-07T11:19:58.581910Z",
     "iopub.status.idle": "2023-04-07T11:19:58.589630Z",
     "shell.execute_reply": "2023-04-07T11:19:58.588564Z"
    },
    "papermill": {
     "duration": 0.034556,
     "end_time": "2023-04-07T11:19:58.592045",
     "exception": false,
     "start_time": "2023-04-07T11:19:58.557489",
     "status": "completed"
    },
    "tags": []
   },
   "outputs": [
    {
     "data": {
      "text/plain": [
       "array([ 2.        , 60.        ,  7.        ,  9.        , 77.77777778])"
      ]
     },
     "execution_count": 43,
     "metadata": {},
     "output_type": "execute_result"
    }
   ],
   "source": [
    "attr_adder = CombinedAttributesAdder(add_size_of_per_room=False)\n",
    "housing_extra_attribs = attr_adder.transform(housing_num.values)\n",
    "housing_extra_attribs[0,:]"
   ]
  },
  {
   "cell_type": "markdown",
   "id": "be3d157f",
   "metadata": {
    "papermill": {
     "duration": 0.023517,
     "end_time": "2023-04-07T11:19:58.638768",
     "exception": false,
     "start_time": "2023-04-07T11:19:58.615251",
     "status": "completed"
    },
    "tags": []
   },
   "source": [
    "<h1 style=\"color:white; padding: 20px; background-color: green; display:inline-block\">Standard Scaler</h1>\n"
   ]
  },
  {
   "cell_type": "code",
   "execution_count": 44,
   "id": "cabc616e",
   "metadata": {
    "execution": {
     "iopub.execute_input": "2023-04-07T11:19:58.687237Z",
     "iopub.status.busy": "2023-04-07T11:19:58.686656Z",
     "iopub.status.idle": "2023-04-07T11:19:58.697360Z",
     "shell.execute_reply": "2023-04-07T11:19:58.696301Z"
    },
    "papermill": {
     "duration": 0.037182,
     "end_time": "2023-04-07T11:19:58.699450",
     "exception": false,
     "start_time": "2023-04-07T11:19:58.662268",
     "status": "completed"
    },
    "tags": []
   },
   "outputs": [
    {
     "data": {
      "text/plain": [
       "array([[-0.5800993 , -0.37121257,  1.46840629,  1.13235263],\n",
       "       [ 0.36748293,  0.80955487,  1.46840629,  0.74869945],\n",
       "       [-0.5800993 , -0.7254428 , -0.7557363 , -0.78591325],\n",
       "       ...,\n",
       "       [ 1.31506517,  1.39993858,  0.57874925, -0.40226007],\n",
       "       [-1.52768153, -0.90255791, -0.31090778, -0.78591325],\n",
       "       [-0.5800993 , -0.57784687, -0.31090778, -0.78591325]])"
      ]
     },
     "execution_count": 44,
     "metadata": {},
     "output_type": "execute_result"
    }
   ],
   "source": [
    "from sklearn.preprocessing import StandardScaler\n",
    "standart_scaler = StandardScaler()\n",
    "standart_scaler.fit_transform(housing_num)"
   ]
  },
  {
   "cell_type": "code",
   "execution_count": 45,
   "id": "d50935f0",
   "metadata": {
    "execution": {
     "iopub.execute_input": "2023-04-07T11:19:58.749910Z",
     "iopub.status.busy": "2023-04-07T11:19:58.748421Z",
     "iopub.status.idle": "2023-04-07T11:19:58.763221Z",
     "shell.execute_reply": "2023-04-07T11:19:58.762162Z"
    },
    "papermill": {
     "duration": 0.041878,
     "end_time": "2023-04-07T11:19:58.765497",
     "exception": false,
     "start_time": "2023-04-07T11:19:58.723619",
     "status": "completed"
    },
    "tags": []
   },
   "outputs": [
    {
     "data": {
      "text/html": [
       "<div>\n",
       "<style scoped>\n",
       "    .dataframe tbody tr th:only-of-type {\n",
       "        vertical-align: middle;\n",
       "    }\n",
       "\n",
       "    .dataframe tbody tr th {\n",
       "        vertical-align: top;\n",
       "    }\n",
       "\n",
       "    .dataframe thead th {\n",
       "        text-align: right;\n",
       "    }\n",
       "</style>\n",
       "<table border=\"1\" class=\"dataframe\">\n",
       "  <thead>\n",
       "    <tr style=\"text-align: right;\">\n",
       "      <th></th>\n",
       "      <th>district</th>\n",
       "      <th>rooms</th>\n",
       "      <th>size</th>\n",
       "      <th>level</th>\n",
       "      <th>max_levels</th>\n",
       "    </tr>\n",
       "  </thead>\n",
       "  <tbody>\n",
       "    <tr>\n",
       "      <th>928</th>\n",
       "      <td>Мирзо-Улугбекский</td>\n",
       "      <td>2</td>\n",
       "      <td>60.0</td>\n",
       "      <td>7</td>\n",
       "      <td>9</td>\n",
       "    </tr>\n",
       "    <tr>\n",
       "      <th>2664</th>\n",
       "      <td>Мирабадский</td>\n",
       "      <td>3</td>\n",
       "      <td>100.0</td>\n",
       "      <td>7</td>\n",
       "      <td>8</td>\n",
       "    </tr>\n",
       "    <tr>\n",
       "      <th>7080</th>\n",
       "      <td>Чиланзарский</td>\n",
       "      <td>2</td>\n",
       "      <td>48.0</td>\n",
       "      <td>2</td>\n",
       "      <td>4</td>\n",
       "    </tr>\n",
       "    <tr>\n",
       "      <th>4281</th>\n",
       "      <td>Мирзо-Улугбекский</td>\n",
       "      <td>3</td>\n",
       "      <td>105.0</td>\n",
       "      <td>5</td>\n",
       "      <td>6</td>\n",
       "    </tr>\n",
       "    <tr>\n",
       "      <th>6504</th>\n",
       "      <td>Мирзо-Улугбекский</td>\n",
       "      <td>2</td>\n",
       "      <td>46.0</td>\n",
       "      <td>4</td>\n",
       "      <td>4</td>\n",
       "    </tr>\n",
       "    <tr>\n",
       "      <th>...</th>\n",
       "      <td>...</td>\n",
       "      <td>...</td>\n",
       "      <td>...</td>\n",
       "      <td>...</td>\n",
       "      <td>...</td>\n",
       "    </tr>\n",
       "    <tr>\n",
       "      <th>3355</th>\n",
       "      <td>Мирзо-Улугбекский</td>\n",
       "      <td>2</td>\n",
       "      <td>70.0</td>\n",
       "      <td>3</td>\n",
       "      <td>6</td>\n",
       "    </tr>\n",
       "    <tr>\n",
       "      <th>3633</th>\n",
       "      <td>Чиланзарский</td>\n",
       "      <td>3</td>\n",
       "      <td>100.0</td>\n",
       "      <td>6</td>\n",
       "      <td>9</td>\n",
       "    </tr>\n",
       "    <tr>\n",
       "      <th>1593</th>\n",
       "      <td>Чиланзарский</td>\n",
       "      <td>4</td>\n",
       "      <td>120.0</td>\n",
       "      <td>5</td>\n",
       "      <td>5</td>\n",
       "    </tr>\n",
       "    <tr>\n",
       "      <th>3742</th>\n",
       "      <td>Чиланзарский</td>\n",
       "      <td>1</td>\n",
       "      <td>42.0</td>\n",
       "      <td>3</td>\n",
       "      <td>4</td>\n",
       "    </tr>\n",
       "    <tr>\n",
       "      <th>3301</th>\n",
       "      <td>Мирзо-Улугбекский</td>\n",
       "      <td>2</td>\n",
       "      <td>53.0</td>\n",
       "      <td>3</td>\n",
       "      <td>4</td>\n",
       "    </tr>\n",
       "  </tbody>\n",
       "</table>\n",
       "<p>5464 rows × 5 columns</p>\n",
       "</div>"
      ],
      "text/plain": [
       "               district  rooms   size  level  max_levels\n",
       "928   Мирзо-Улугбекский      2   60.0      7           9\n",
       "2664        Мирабадский      3  100.0      7           8\n",
       "7080       Чиланзарский      2   48.0      2           4\n",
       "4281  Мирзо-Улугбекский      3  105.0      5           6\n",
       "6504  Мирзо-Улугбекский      2   46.0      4           4\n",
       "...                 ...    ...    ...    ...         ...\n",
       "3355  Мирзо-Улугбекский      2   70.0      3           6\n",
       "3633       Чиланзарский      3  100.0      6           9\n",
       "1593       Чиланзарский      4  120.0      5           5\n",
       "3742       Чиланзарский      1   42.0      3           4\n",
       "3301  Мирзо-Улугбекский      2   53.0      3           4\n",
       "\n",
       "[5464 rows x 5 columns]"
      ]
     },
     "execution_count": 45,
     "metadata": {},
     "output_type": "execute_result"
    }
   ],
   "source": [
    "housing"
   ]
  },
  {
   "cell_type": "code",
   "execution_count": 46,
   "id": "3d370e8c",
   "metadata": {
    "execution": {
     "iopub.execute_input": "2023-04-07T11:19:58.815664Z",
     "iopub.status.busy": "2023-04-07T11:19:58.814228Z",
     "iopub.status.idle": "2023-04-07T11:19:58.829578Z",
     "shell.execute_reply": "2023-04-07T11:19:58.828529Z"
    },
    "papermill": {
     "duration": 0.042694,
     "end_time": "2023-04-07T11:19:58.831776",
     "exception": false,
     "start_time": "2023-04-07T11:19:58.789082",
     "status": "completed"
    },
    "tags": []
   },
   "outputs": [
    {
     "data": {
      "text/html": [
       "<div>\n",
       "<style scoped>\n",
       "    .dataframe tbody tr th:only-of-type {\n",
       "        vertical-align: middle;\n",
       "    }\n",
       "\n",
       "    .dataframe tbody tr th {\n",
       "        vertical-align: top;\n",
       "    }\n",
       "\n",
       "    .dataframe thead th {\n",
       "        text-align: right;\n",
       "    }\n",
       "</style>\n",
       "<table border=\"1\" class=\"dataframe\">\n",
       "  <thead>\n",
       "    <tr style=\"text-align: right;\">\n",
       "      <th></th>\n",
       "      <th>Бектемирский</th>\n",
       "      <th>Мирабадский</th>\n",
       "      <th>Мирзо-Улугбекский</th>\n",
       "      <th>Олмазорский</th>\n",
       "      <th>Сергелийский</th>\n",
       "      <th>Учтепинский</th>\n",
       "      <th>Чиланзарский</th>\n",
       "      <th>Шайхантахурский</th>\n",
       "      <th>Юнусабадский</th>\n",
       "      <th>Яккасарайский</th>\n",
       "      <th>Янгихаётский</th>\n",
       "      <th>Яшнободский</th>\n",
       "    </tr>\n",
       "  </thead>\n",
       "  <tbody>\n",
       "    <tr>\n",
       "      <th>928</th>\n",
       "      <td>0</td>\n",
       "      <td>0</td>\n",
       "      <td>1</td>\n",
       "      <td>0</td>\n",
       "      <td>0</td>\n",
       "      <td>0</td>\n",
       "      <td>0</td>\n",
       "      <td>0</td>\n",
       "      <td>0</td>\n",
       "      <td>0</td>\n",
       "      <td>0</td>\n",
       "      <td>0</td>\n",
       "    </tr>\n",
       "    <tr>\n",
       "      <th>2664</th>\n",
       "      <td>0</td>\n",
       "      <td>1</td>\n",
       "      <td>0</td>\n",
       "      <td>0</td>\n",
       "      <td>0</td>\n",
       "      <td>0</td>\n",
       "      <td>0</td>\n",
       "      <td>0</td>\n",
       "      <td>0</td>\n",
       "      <td>0</td>\n",
       "      <td>0</td>\n",
       "      <td>0</td>\n",
       "    </tr>\n",
       "    <tr>\n",
       "      <th>7080</th>\n",
       "      <td>0</td>\n",
       "      <td>0</td>\n",
       "      <td>0</td>\n",
       "      <td>0</td>\n",
       "      <td>0</td>\n",
       "      <td>0</td>\n",
       "      <td>1</td>\n",
       "      <td>0</td>\n",
       "      <td>0</td>\n",
       "      <td>0</td>\n",
       "      <td>0</td>\n",
       "      <td>0</td>\n",
       "    </tr>\n",
       "    <tr>\n",
       "      <th>4281</th>\n",
       "      <td>0</td>\n",
       "      <td>0</td>\n",
       "      <td>1</td>\n",
       "      <td>0</td>\n",
       "      <td>0</td>\n",
       "      <td>0</td>\n",
       "      <td>0</td>\n",
       "      <td>0</td>\n",
       "      <td>0</td>\n",
       "      <td>0</td>\n",
       "      <td>0</td>\n",
       "      <td>0</td>\n",
       "    </tr>\n",
       "    <tr>\n",
       "      <th>6504</th>\n",
       "      <td>0</td>\n",
       "      <td>0</td>\n",
       "      <td>1</td>\n",
       "      <td>0</td>\n",
       "      <td>0</td>\n",
       "      <td>0</td>\n",
       "      <td>0</td>\n",
       "      <td>0</td>\n",
       "      <td>0</td>\n",
       "      <td>0</td>\n",
       "      <td>0</td>\n",
       "      <td>0</td>\n",
       "    </tr>\n",
       "    <tr>\n",
       "      <th>...</th>\n",
       "      <td>...</td>\n",
       "      <td>...</td>\n",
       "      <td>...</td>\n",
       "      <td>...</td>\n",
       "      <td>...</td>\n",
       "      <td>...</td>\n",
       "      <td>...</td>\n",
       "      <td>...</td>\n",
       "      <td>...</td>\n",
       "      <td>...</td>\n",
       "      <td>...</td>\n",
       "      <td>...</td>\n",
       "    </tr>\n",
       "    <tr>\n",
       "      <th>3355</th>\n",
       "      <td>0</td>\n",
       "      <td>0</td>\n",
       "      <td>1</td>\n",
       "      <td>0</td>\n",
       "      <td>0</td>\n",
       "      <td>0</td>\n",
       "      <td>0</td>\n",
       "      <td>0</td>\n",
       "      <td>0</td>\n",
       "      <td>0</td>\n",
       "      <td>0</td>\n",
       "      <td>0</td>\n",
       "    </tr>\n",
       "    <tr>\n",
       "      <th>3633</th>\n",
       "      <td>0</td>\n",
       "      <td>0</td>\n",
       "      <td>0</td>\n",
       "      <td>0</td>\n",
       "      <td>0</td>\n",
       "      <td>0</td>\n",
       "      <td>1</td>\n",
       "      <td>0</td>\n",
       "      <td>0</td>\n",
       "      <td>0</td>\n",
       "      <td>0</td>\n",
       "      <td>0</td>\n",
       "    </tr>\n",
       "    <tr>\n",
       "      <th>1593</th>\n",
       "      <td>0</td>\n",
       "      <td>0</td>\n",
       "      <td>0</td>\n",
       "      <td>0</td>\n",
       "      <td>0</td>\n",
       "      <td>0</td>\n",
       "      <td>1</td>\n",
       "      <td>0</td>\n",
       "      <td>0</td>\n",
       "      <td>0</td>\n",
       "      <td>0</td>\n",
       "      <td>0</td>\n",
       "    </tr>\n",
       "    <tr>\n",
       "      <th>3742</th>\n",
       "      <td>0</td>\n",
       "      <td>0</td>\n",
       "      <td>0</td>\n",
       "      <td>0</td>\n",
       "      <td>0</td>\n",
       "      <td>0</td>\n",
       "      <td>1</td>\n",
       "      <td>0</td>\n",
       "      <td>0</td>\n",
       "      <td>0</td>\n",
       "      <td>0</td>\n",
       "      <td>0</td>\n",
       "    </tr>\n",
       "    <tr>\n",
       "      <th>3301</th>\n",
       "      <td>0</td>\n",
       "      <td>0</td>\n",
       "      <td>1</td>\n",
       "      <td>0</td>\n",
       "      <td>0</td>\n",
       "      <td>0</td>\n",
       "      <td>0</td>\n",
       "      <td>0</td>\n",
       "      <td>0</td>\n",
       "      <td>0</td>\n",
       "      <td>0</td>\n",
       "      <td>0</td>\n",
       "    </tr>\n",
       "  </tbody>\n",
       "</table>\n",
       "<p>5464 rows × 12 columns</p>\n",
       "</div>"
      ],
      "text/plain": [
       "      Бектемирский  Мирабадский  Мирзо-Улугбекский  Олмазорский  Сергелийский  \\\n",
       "928              0            0                  1            0             0   \n",
       "2664             0            1                  0            0             0   \n",
       "7080             0            0                  0            0             0   \n",
       "4281             0            0                  1            0             0   \n",
       "6504             0            0                  1            0             0   \n",
       "...            ...          ...                ...          ...           ...   \n",
       "3355             0            0                  1            0             0   \n",
       "3633             0            0                  0            0             0   \n",
       "1593             0            0                  0            0             0   \n",
       "3742             0            0                  0            0             0   \n",
       "3301             0            0                  1            0             0   \n",
       "\n",
       "      Учтепинский  Чиланзарский  Шайхантахурский  Юнусабадский  Яккасарайский  \\\n",
       "928             0             0                0             0              0   \n",
       "2664            0             0                0             0              0   \n",
       "7080            0             1                0             0              0   \n",
       "4281            0             0                0             0              0   \n",
       "6504            0             0                0             0              0   \n",
       "...           ...           ...              ...           ...            ...   \n",
       "3355            0             0                0             0              0   \n",
       "3633            0             1                0             0              0   \n",
       "1593            0             1                0             0              0   \n",
       "3742            0             1                0             0              0   \n",
       "3301            0             0                0             0              0   \n",
       "\n",
       "      Янгихаётский  Яшнободский  \n",
       "928              0            0  \n",
       "2664             0            0  \n",
       "7080             0            0  \n",
       "4281             0            0  \n",
       "6504             0            0  \n",
       "...            ...          ...  \n",
       "3355             0            0  \n",
       "3633             0            0  \n",
       "1593             0            0  \n",
       "3742             0            0  \n",
       "3301             0            0  \n",
       "\n",
       "[5464 rows x 12 columns]"
      ]
     },
     "execution_count": 46,
     "metadata": {},
     "output_type": "execute_result"
    }
   ],
   "source": [
    "housing_onehot = pd.get_dummies(housing['district'])\n",
    "housing_onehot"
   ]
  },
  {
   "cell_type": "code",
   "execution_count": 47,
   "id": "2d6d7a12",
   "metadata": {
    "execution": {
     "iopub.execute_input": "2023-04-07T11:19:58.881330Z",
     "iopub.status.busy": "2023-04-07T11:19:58.880354Z",
     "iopub.status.idle": "2023-04-07T11:19:58.894303Z",
     "shell.execute_reply": "2023-04-07T11:19:58.893289Z"
    },
    "papermill": {
     "duration": 0.040778,
     "end_time": "2023-04-07T11:19:58.896361",
     "exception": false,
     "start_time": "2023-04-07T11:19:58.855583",
     "status": "completed"
    },
    "tags": []
   },
   "outputs": [
    {
     "data": {
      "text/html": [
       "<div>\n",
       "<style scoped>\n",
       "    .dataframe tbody tr th:only-of-type {\n",
       "        vertical-align: middle;\n",
       "    }\n",
       "\n",
       "    .dataframe tbody tr th {\n",
       "        vertical-align: top;\n",
       "    }\n",
       "\n",
       "    .dataframe thead th {\n",
       "        text-align: right;\n",
       "    }\n",
       "</style>\n",
       "<table border=\"1\" class=\"dataframe\">\n",
       "  <thead>\n",
       "    <tr style=\"text-align: right;\">\n",
       "      <th></th>\n",
       "      <th>rooms</th>\n",
       "      <th>size</th>\n",
       "      <th>level</th>\n",
       "      <th>max_levels</th>\n",
       "    </tr>\n",
       "  </thead>\n",
       "  <tbody>\n",
       "    <tr>\n",
       "      <th>928</th>\n",
       "      <td>2</td>\n",
       "      <td>60.0</td>\n",
       "      <td>7</td>\n",
       "      <td>9</td>\n",
       "    </tr>\n",
       "    <tr>\n",
       "      <th>2664</th>\n",
       "      <td>3</td>\n",
       "      <td>100.0</td>\n",
       "      <td>7</td>\n",
       "      <td>8</td>\n",
       "    </tr>\n",
       "    <tr>\n",
       "      <th>7080</th>\n",
       "      <td>2</td>\n",
       "      <td>48.0</td>\n",
       "      <td>2</td>\n",
       "      <td>4</td>\n",
       "    </tr>\n",
       "    <tr>\n",
       "      <th>4281</th>\n",
       "      <td>3</td>\n",
       "      <td>105.0</td>\n",
       "      <td>5</td>\n",
       "      <td>6</td>\n",
       "    </tr>\n",
       "    <tr>\n",
       "      <th>6504</th>\n",
       "      <td>2</td>\n",
       "      <td>46.0</td>\n",
       "      <td>4</td>\n",
       "      <td>4</td>\n",
       "    </tr>\n",
       "    <tr>\n",
       "      <th>...</th>\n",
       "      <td>...</td>\n",
       "      <td>...</td>\n",
       "      <td>...</td>\n",
       "      <td>...</td>\n",
       "    </tr>\n",
       "    <tr>\n",
       "      <th>3355</th>\n",
       "      <td>2</td>\n",
       "      <td>70.0</td>\n",
       "      <td>3</td>\n",
       "      <td>6</td>\n",
       "    </tr>\n",
       "    <tr>\n",
       "      <th>3633</th>\n",
       "      <td>3</td>\n",
       "      <td>100.0</td>\n",
       "      <td>6</td>\n",
       "      <td>9</td>\n",
       "    </tr>\n",
       "    <tr>\n",
       "      <th>1593</th>\n",
       "      <td>4</td>\n",
       "      <td>120.0</td>\n",
       "      <td>5</td>\n",
       "      <td>5</td>\n",
       "    </tr>\n",
       "    <tr>\n",
       "      <th>3742</th>\n",
       "      <td>1</td>\n",
       "      <td>42.0</td>\n",
       "      <td>3</td>\n",
       "      <td>4</td>\n",
       "    </tr>\n",
       "    <tr>\n",
       "      <th>3301</th>\n",
       "      <td>2</td>\n",
       "      <td>53.0</td>\n",
       "      <td>3</td>\n",
       "      <td>4</td>\n",
       "    </tr>\n",
       "  </tbody>\n",
       "</table>\n",
       "<p>5464 rows × 4 columns</p>\n",
       "</div>"
      ],
      "text/plain": [
       "      rooms   size  level  max_levels\n",
       "928       2   60.0      7           9\n",
       "2664      3  100.0      7           8\n",
       "7080      2   48.0      2           4\n",
       "4281      3  105.0      5           6\n",
       "6504      2   46.0      4           4\n",
       "...     ...    ...    ...         ...\n",
       "3355      2   70.0      3           6\n",
       "3633      3  100.0      6           9\n",
       "1593      4  120.0      5           5\n",
       "3742      1   42.0      3           4\n",
       "3301      2   53.0      3           4\n",
       "\n",
       "[5464 rows x 4 columns]"
      ]
     },
     "execution_count": 47,
     "metadata": {},
     "output_type": "execute_result"
    }
   ],
   "source": [
    "housing_num"
   ]
  },
  {
   "cell_type": "markdown",
   "id": "627981a0",
   "metadata": {
    "papermill": {
     "duration": 0.024221,
     "end_time": "2023-04-07T11:19:58.944817",
     "exception": false,
     "start_time": "2023-04-07T11:19:58.920596",
     "status": "completed"
    },
    "tags": []
   },
   "source": [
    "<h1 style=\"color:white; padding: 20px; background-color: green; display:inline-block\">Pipeline</h1>\n"
   ]
  },
  {
   "cell_type": "code",
   "execution_count": 48,
   "id": "94a09ca6",
   "metadata": {
    "execution": {
     "iopub.execute_input": "2023-04-07T11:19:58.994587Z",
     "iopub.status.busy": "2023-04-07T11:19:58.994277Z",
     "iopub.status.idle": "2023-04-07T11:19:59.162920Z",
     "shell.execute_reply": "2023-04-07T11:19:59.161899Z"
    },
    "papermill": {
     "duration": 0.196641,
     "end_time": "2023-04-07T11:19:59.165538",
     "exception": false,
     "start_time": "2023-04-07T11:19:58.968897",
     "status": "completed"
    },
    "tags": []
   },
   "outputs": [],
   "source": [
    "from sklearn.pipeline import Pipeline\n",
    "from sklearn.impute import SimpleImputer\n",
    "from sklearn.preprocessing import OneHotEncoder, StandardScaler\n",
    "\n",
    "num_pipeline = Pipeline([\n",
    "          ('std_scaler', StandardScaler())             \n",
    "])"
   ]
  },
  {
   "cell_type": "code",
   "execution_count": 49,
   "id": "9ee12907",
   "metadata": {
    "execution": {
     "iopub.execute_input": "2023-04-07T11:19:59.216264Z",
     "iopub.status.busy": "2023-04-07T11:19:59.215952Z",
     "iopub.status.idle": "2023-04-07T11:19:59.227136Z",
     "shell.execute_reply": "2023-04-07T11:19:59.226101Z"
    },
    "papermill": {
     "duration": 0.03916,
     "end_time": "2023-04-07T11:19:59.229395",
     "exception": false,
     "start_time": "2023-04-07T11:19:59.190235",
     "status": "completed"
    },
    "tags": []
   },
   "outputs": [
    {
     "data": {
      "text/plain": [
       "array([[-0.5800993 , -0.37121257,  1.46840629,  1.13235263],\n",
       "       [ 0.36748293,  0.80955487,  1.46840629,  0.74869945],\n",
       "       [-0.5800993 , -0.7254428 , -0.7557363 , -0.78591325],\n",
       "       ...,\n",
       "       [ 1.31506517,  1.39993858,  0.57874925, -0.40226007],\n",
       "       [-1.52768153, -0.90255791, -0.31090778, -0.78591325],\n",
       "       [-0.5800993 , -0.57784687, -0.31090778, -0.78591325]])"
      ]
     },
     "execution_count": 49,
     "metadata": {},
     "output_type": "execute_result"
    }
   ],
   "source": [
    "num_pipeline.fit_transform(housing_num)"
   ]
  },
  {
   "cell_type": "code",
   "execution_count": 50,
   "id": "b2384b22",
   "metadata": {
    "execution": {
     "iopub.execute_input": "2023-04-07T11:19:59.280279Z",
     "iopub.status.busy": "2023-04-07T11:19:59.279380Z",
     "iopub.status.idle": "2023-04-07T11:19:59.294618Z",
     "shell.execute_reply": "2023-04-07T11:19:59.293742Z"
    },
    "papermill": {
     "duration": 0.04281,
     "end_time": "2023-04-07T11:19:59.296690",
     "exception": false,
     "start_time": "2023-04-07T11:19:59.253880",
     "status": "completed"
    },
    "tags": []
   },
   "outputs": [],
   "source": [
    "from sklearn.compose import ColumnTransformer\n",
    "\n",
    "num_attribs = list(housing_num)\n",
    "cat_attribs = ['district']\n",
    "\n",
    "full_pipeline = ColumnTransformer([\n",
    "    ('num', num_pipeline, num_attribs),\n",
    "    ('cat', OneHotEncoder(), cat_attribs)\n",
    "])"
   ]
  },
  {
   "cell_type": "code",
   "execution_count": 51,
   "id": "f2bbb9c3",
   "metadata": {
    "execution": {
     "iopub.execute_input": "2023-04-07T11:19:59.346781Z",
     "iopub.status.busy": "2023-04-07T11:19:59.346230Z",
     "iopub.status.idle": "2023-04-07T11:19:59.360501Z",
     "shell.execute_reply": "2023-04-07T11:19:59.359543Z"
    },
    "papermill": {
     "duration": 0.041621,
     "end_time": "2023-04-07T11:19:59.362791",
     "exception": false,
     "start_time": "2023-04-07T11:19:59.321170",
     "status": "completed"
    },
    "tags": []
   },
   "outputs": [],
   "source": [
    "housing_prepared = full_pipeline.fit_transform(housing)"
   ]
  },
  {
   "cell_type": "code",
   "execution_count": 52,
   "id": "5552ff3d",
   "metadata": {
    "execution": {
     "iopub.execute_input": "2023-04-07T11:19:59.413172Z",
     "iopub.status.busy": "2023-04-07T11:19:59.412300Z",
     "iopub.status.idle": "2023-04-07T11:19:59.419550Z",
     "shell.execute_reply": "2023-04-07T11:19:59.418579Z"
    },
    "papermill": {
     "duration": 0.034743,
     "end_time": "2023-04-07T11:19:59.421919",
     "exception": false,
     "start_time": "2023-04-07T11:19:59.387176",
     "status": "completed"
    },
    "tags": []
   },
   "outputs": [
    {
     "data": {
      "text/plain": [
       "array([[-0.5800993 , -0.37121257,  1.46840629,  1.13235263,  0.        ,\n",
       "         0.        ,  1.        ,  0.        ,  0.        ,  0.        ,\n",
       "         0.        ,  0.        ,  0.        ,  0.        ,  0.        ,\n",
       "         0.        ],\n",
       "       [ 0.36748293,  0.80955487,  1.46840629,  0.74869945,  0.        ,\n",
       "         1.        ,  0.        ,  0.        ,  0.        ,  0.        ,\n",
       "         0.        ,  0.        ,  0.        ,  0.        ,  0.        ,\n",
       "         0.        ],\n",
       "       [-0.5800993 , -0.7254428 , -0.7557363 , -0.78591325,  0.        ,\n",
       "         0.        ,  0.        ,  0.        ,  0.        ,  0.        ,\n",
       "         1.        ,  0.        ,  0.        ,  0.        ,  0.        ,\n",
       "         0.        ],\n",
       "       [ 0.36748293,  0.95715079,  0.57874925, -0.0186069 ,  0.        ,\n",
       "         0.        ,  1.        ,  0.        ,  0.        ,  0.        ,\n",
       "         0.        ,  0.        ,  0.        ,  0.        ,  0.        ,\n",
       "         0.        ],\n",
       "       [-0.5800993 , -0.78448117,  0.13392074, -0.78591325,  0.        ,\n",
       "         0.        ,  1.        ,  0.        ,  0.        ,  0.        ,\n",
       "         0.        ,  0.        ,  0.        ,  0.        ,  0.        ,\n",
       "         0.        ]])"
      ]
     },
     "execution_count": 52,
     "metadata": {},
     "output_type": "execute_result"
    }
   ],
   "source": [
    "housing_prepared[0:5,:]"
   ]
  },
  {
   "cell_type": "markdown",
   "id": "6c8ff92f",
   "metadata": {
    "papermill": {
     "duration": 0.024461,
     "end_time": "2023-04-07T11:19:59.479207",
     "exception": false,
     "start_time": "2023-04-07T11:19:59.454746",
     "status": "completed"
    },
    "tags": []
   },
   "source": [
    "Now our data is ready.\n",
    "<h1 style=\"color:white; padding: 20px; background-color: green; display:inline-block\">Machine learning</h1>"
   ]
  },
  {
   "cell_type": "markdown",
   "id": "db04620f",
   "metadata": {
    "papermill": {
     "duration": 0.024259,
     "end_time": "2023-04-07T11:19:59.527943",
     "exception": false,
     "start_time": "2023-04-07T11:19:59.503684",
     "status": "completed"
    },
    "tags": []
   },
   "source": [
    "<h1>Linear Regression </h1>"
   ]
  },
  {
   "cell_type": "code",
   "execution_count": 53,
   "id": "619439a5",
   "metadata": {
    "execution": {
     "iopub.execute_input": "2023-04-07T11:19:59.579004Z",
     "iopub.status.busy": "2023-04-07T11:19:59.578039Z",
     "iopub.status.idle": "2023-04-07T11:19:59.583229Z",
     "shell.execute_reply": "2023-04-07T11:19:59.582244Z"
    },
    "papermill": {
     "duration": 0.032666,
     "end_time": "2023-04-07T11:19:59.585288",
     "exception": false,
     "start_time": "2023-04-07T11:19:59.552622",
     "status": "completed"
    },
    "tags": []
   },
   "outputs": [],
   "source": [
    "from sklearn.linear_model import LinearRegression\n",
    "\n",
    "LR_model = LinearRegression()"
   ]
  },
  {
   "cell_type": "code",
   "execution_count": 54,
   "id": "510bc8ba",
   "metadata": {
    "execution": {
     "iopub.execute_input": "2023-04-07T11:19:59.636143Z",
     "iopub.status.busy": "2023-04-07T11:19:59.635228Z",
     "iopub.status.idle": "2023-04-07T11:19:59.657511Z",
     "shell.execute_reply": "2023-04-07T11:19:59.656338Z"
    },
    "papermill": {
     "duration": 0.051358,
     "end_time": "2023-04-07T11:19:59.660746",
     "exception": false,
     "start_time": "2023-04-07T11:19:59.609388",
     "status": "completed"
    },
    "tags": []
   },
   "outputs": [
    {
     "data": {
      "text/plain": [
       "LinearRegression()"
      ]
     },
     "execution_count": 54,
     "metadata": {},
     "output_type": "execute_result"
    }
   ],
   "source": [
    "LR_model.fit(housing_prepared, housing_labels)"
   ]
  },
  {
   "cell_type": "markdown",
   "id": "01e4a687",
   "metadata": {
    "papermill": {
     "duration": 0.056729,
     "end_time": "2023-04-07T11:19:59.783238",
     "exception": false,
     "start_time": "2023-04-07T11:19:59.726509",
     "status": "completed"
    },
    "tags": []
   },
   "source": [
    "Let's check how well the model works"
   ]
  },
  {
   "cell_type": "code",
   "execution_count": 55,
   "id": "d3c5ed8f",
   "metadata": {
    "execution": {
     "iopub.execute_input": "2023-04-07T11:19:59.833764Z",
     "iopub.status.busy": "2023-04-07T11:19:59.833462Z",
     "iopub.status.idle": "2023-04-07T11:19:59.845910Z",
     "shell.execute_reply": "2023-04-07T11:19:59.844818Z"
    },
    "papermill": {
     "duration": 0.039941,
     "end_time": "2023-04-07T11:19:59.847956",
     "exception": false,
     "start_time": "2023-04-07T11:19:59.808015",
     "status": "completed"
    },
    "tags": []
   },
   "outputs": [
    {
     "data": {
      "text/html": [
       "<div>\n",
       "<style scoped>\n",
       "    .dataframe tbody tr th:only-of-type {\n",
       "        vertical-align: middle;\n",
       "    }\n",
       "\n",
       "    .dataframe tbody tr th {\n",
       "        vertical-align: top;\n",
       "    }\n",
       "\n",
       "    .dataframe thead th {\n",
       "        text-align: right;\n",
       "    }\n",
       "</style>\n",
       "<table border=\"1\" class=\"dataframe\">\n",
       "  <thead>\n",
       "    <tr style=\"text-align: right;\">\n",
       "      <th></th>\n",
       "      <th>district</th>\n",
       "      <th>rooms</th>\n",
       "      <th>size</th>\n",
       "      <th>level</th>\n",
       "      <th>max_levels</th>\n",
       "    </tr>\n",
       "  </thead>\n",
       "  <tbody>\n",
       "    <tr>\n",
       "      <th>3982</th>\n",
       "      <td>Мирзо-Улугбекский</td>\n",
       "      <td>3</td>\n",
       "      <td>70.00</td>\n",
       "      <td>2</td>\n",
       "      <td>3</td>\n",
       "    </tr>\n",
       "    <tr>\n",
       "      <th>6289</th>\n",
       "      <td>Учтепинский</td>\n",
       "      <td>2</td>\n",
       "      <td>43.00</td>\n",
       "      <td>2</td>\n",
       "      <td>5</td>\n",
       "    </tr>\n",
       "    <tr>\n",
       "      <th>2576</th>\n",
       "      <td>Юнусабадский</td>\n",
       "      <td>4</td>\n",
       "      <td>82.00</td>\n",
       "      <td>1</td>\n",
       "      <td>4</td>\n",
       "    </tr>\n",
       "    <tr>\n",
       "      <th>3116</th>\n",
       "      <td>Мирзо-Улугбекский</td>\n",
       "      <td>2</td>\n",
       "      <td>47.00</td>\n",
       "      <td>3</td>\n",
       "      <td>5</td>\n",
       "    </tr>\n",
       "    <tr>\n",
       "      <th>4187</th>\n",
       "      <td>Мирзо-Улугбекский</td>\n",
       "      <td>3</td>\n",
       "      <td>152.00</td>\n",
       "      <td>4</td>\n",
       "      <td>8</td>\n",
       "    </tr>\n",
       "    <tr>\n",
       "      <th>5091</th>\n",
       "      <td>Учтепинский</td>\n",
       "      <td>1</td>\n",
       "      <td>33.00</td>\n",
       "      <td>3</td>\n",
       "      <td>4</td>\n",
       "    </tr>\n",
       "    <tr>\n",
       "      <th>3533</th>\n",
       "      <td>Мирзо-Улугбекский</td>\n",
       "      <td>3</td>\n",
       "      <td>87.65</td>\n",
       "      <td>10</td>\n",
       "      <td>11</td>\n",
       "    </tr>\n",
       "    <tr>\n",
       "      <th>2974</th>\n",
       "      <td>Чиланзарский</td>\n",
       "      <td>5</td>\n",
       "      <td>140.00</td>\n",
       "      <td>4</td>\n",
       "      <td>9</td>\n",
       "    </tr>\n",
       "    <tr>\n",
       "      <th>7042</th>\n",
       "      <td>Олмазорский</td>\n",
       "      <td>4</td>\n",
       "      <td>74.07</td>\n",
       "      <td>4</td>\n",
       "      <td>4</td>\n",
       "    </tr>\n",
       "    <tr>\n",
       "      <th>4672</th>\n",
       "      <td>Мирзо-Улугбекский</td>\n",
       "      <td>2</td>\n",
       "      <td>60.00</td>\n",
       "      <td>5</td>\n",
       "      <td>9</td>\n",
       "    </tr>\n",
       "  </tbody>\n",
       "</table>\n",
       "</div>"
      ],
      "text/plain": [
       "               district  rooms    size  level  max_levels\n",
       "3982  Мирзо-Улугбекский      3   70.00      2           3\n",
       "6289        Учтепинский      2   43.00      2           5\n",
       "2576       Юнусабадский      4   82.00      1           4\n",
       "3116  Мирзо-Улугбекский      2   47.00      3           5\n",
       "4187  Мирзо-Улугбекский      3  152.00      4           8\n",
       "5091        Учтепинский      1   33.00      3           4\n",
       "3533  Мирзо-Улугбекский      3   87.65     10          11\n",
       "2974       Чиланзарский      5  140.00      4           9\n",
       "7042        Олмазорский      4   74.07      4           4\n",
       "4672  Мирзо-Улугбекский      2   60.00      5           9"
      ]
     },
     "execution_count": 55,
     "metadata": {},
     "output_type": "execute_result"
    }
   ],
   "source": [
    "test_data = housing.sample(10)\n",
    "test_data"
   ]
  },
  {
   "cell_type": "code",
   "execution_count": 56,
   "id": "912f0ca1",
   "metadata": {
    "execution": {
     "iopub.execute_input": "2023-04-07T11:19:59.899258Z",
     "iopub.status.busy": "2023-04-07T11:19:59.898678Z",
     "iopub.status.idle": "2023-04-07T11:19:59.906604Z",
     "shell.execute_reply": "2023-04-07T11:19:59.905563Z"
    },
    "papermill": {
     "duration": 0.035423,
     "end_time": "2023-04-07T11:19:59.908644",
     "exception": false,
     "start_time": "2023-04-07T11:19:59.873221",
     "status": "completed"
    },
    "tags": []
   },
   "outputs": [
    {
     "data": {
      "text/plain": [
       "3982     46500\n",
       "6289     37000\n",
       "2576     85500\n",
       "3116     36500\n",
       "4187    285000\n",
       "5091     23700\n",
       "3533     56491\n",
       "2974    120000\n",
       "7042     44000\n",
       "4672     40000\n",
       "Name: price, dtype: int64"
      ]
     },
     "execution_count": 56,
     "metadata": {},
     "output_type": "execute_result"
    }
   ],
   "source": [
    "test_label = housing_labels.loc[test_data.index]\n",
    "test_label"
   ]
  },
  {
   "cell_type": "code",
   "execution_count": 57,
   "id": "d91003ec",
   "metadata": {
    "execution": {
     "iopub.execute_input": "2023-04-07T11:19:59.960007Z",
     "iopub.status.busy": "2023-04-07T11:19:59.959561Z",
     "iopub.status.idle": "2023-04-07T11:19:59.971516Z",
     "shell.execute_reply": "2023-04-07T11:19:59.970245Z"
    },
    "papermill": {
     "duration": 0.03989,
     "end_time": "2023-04-07T11:19:59.973593",
     "exception": false,
     "start_time": "2023-04-07T11:19:59.933703",
     "status": "completed"
    },
    "tags": []
   },
   "outputs": [
    {
     "data": {
      "text/plain": [
       "array([[ 0.36748293, -0.07602071, -0.7557363 , -1.16956643,  0.        ,\n",
       "         0.        ,  1.        ,  0.        ,  0.        ,  0.        ,\n",
       "         0.        ,  0.        ,  0.        ,  0.        ,  0.        ,\n",
       "         0.        ],\n",
       "       [-0.5800993 , -0.87303873, -0.7557363 , -0.40226007,  0.        ,\n",
       "         0.        ,  0.        ,  0.        ,  0.        ,  1.        ,\n",
       "         0.        ,  0.        ,  0.        ,  0.        ,  0.        ,\n",
       "         0.        ],\n",
       "       [ 1.31506517,  0.27820952, -1.20056481, -0.78591325,  0.        ,\n",
       "         0.        ,  0.        ,  0.        ,  0.        ,  0.        ,\n",
       "         0.        ,  0.        ,  1.        ,  0.        ,  0.        ,\n",
       "         0.        ],\n",
       "       [-0.5800993 , -0.75496198, -0.31090778, -0.40226007,  0.        ,\n",
       "         0.        ,  1.        ,  0.        ,  0.        ,  0.        ,\n",
       "         0.        ,  0.        ,  0.        ,  0.        ,  0.        ,\n",
       "         0.        ],\n",
       "       [ 0.36748293,  2.34455253,  0.13392074,  0.74869945,  0.        ,\n",
       "         0.        ,  1.        ,  0.        ,  0.        ,  0.        ,\n",
       "         0.        ,  0.        ,  0.        ,  0.        ,  0.        ,\n",
       "         0.        ],\n",
       "       [-1.52768153, -1.16823059, -0.31090778, -0.78591325,  0.        ,\n",
       "         0.        ,  0.        ,  0.        ,  0.        ,  1.        ,\n",
       "         0.        ,  0.        ,  0.        ,  0.        ,  0.        ,\n",
       "         0.        ],\n",
       "       [ 0.36748293,  0.44499292,  2.80289184,  1.89965898,  0.        ,\n",
       "         0.        ,  1.        ,  0.        ,  0.        ,  0.        ,\n",
       "         0.        ,  0.        ,  0.        ,  0.        ,  0.        ,\n",
       "         0.        ],\n",
       "       [ 2.2626474 ,  1.9903223 ,  0.13392074,  1.13235263,  0.        ,\n",
       "         0.        ,  0.        ,  0.        ,  0.        ,  0.        ,\n",
       "         1.        ,  0.        ,  0.        ,  0.        ,  0.        ,\n",
       "         0.        ],\n",
       "       [ 1.31506517,  0.04412238,  0.13392074, -0.78591325,  0.        ,\n",
       "         0.        ,  0.        ,  1.        ,  0.        ,  0.        ,\n",
       "         0.        ,  0.        ,  0.        ,  0.        ,  0.        ,\n",
       "         0.        ],\n",
       "       [-0.5800993 , -0.37121257,  0.57874925,  1.13235263,  0.        ,\n",
       "         0.        ,  1.        ,  0.        ,  0.        ,  0.        ,\n",
       "         0.        ,  0.        ,  0.        ,  0.        ,  0.        ,\n",
       "         0.        ]])"
      ]
     },
     "execution_count": 57,
     "metadata": {},
     "output_type": "execute_result"
    }
   ],
   "source": [
    "test_data_prepared = full_pipeline.transform(test_data)\n",
    "test_data_prepared"
   ]
  },
  {
   "cell_type": "code",
   "execution_count": 58,
   "id": "cc321292",
   "metadata": {
    "execution": {
     "iopub.execute_input": "2023-04-07T11:20:00.025144Z",
     "iopub.status.busy": "2023-04-07T11:20:00.024337Z",
     "iopub.status.idle": "2023-04-07T11:20:00.031552Z",
     "shell.execute_reply": "2023-04-07T11:20:00.030180Z"
    },
    "papermill": {
     "duration": 0.035518,
     "end_time": "2023-04-07T11:20:00.033852",
     "exception": false,
     "start_time": "2023-04-07T11:19:59.998334",
     "status": "completed"
    },
    "tags": []
   },
   "outputs": [
    {
     "data": {
      "text/plain": [
       "array([ 55585.04479023,  26430.09848843,  64169.43122025,  35191.02856182,\n",
       "       147351.40462262,  19349.2691986 ,  64455.68136834, 117467.67647706,\n",
       "        38857.57283798,  48125.29435615])"
      ]
     },
     "execution_count": 58,
     "metadata": {},
     "output_type": "execute_result"
    }
   ],
   "source": [
    "predicted_data = LR_model.predict(test_data_prepared)\n",
    "predicted_data"
   ]
  },
  {
   "cell_type": "code",
   "execution_count": 59,
   "id": "738ab3db",
   "metadata": {
    "execution": {
     "iopub.execute_input": "2023-04-07T11:20:00.085433Z",
     "iopub.status.busy": "2023-04-07T11:20:00.084617Z",
     "iopub.status.idle": "2023-04-07T11:20:00.094790Z",
     "shell.execute_reply": "2023-04-07T11:20:00.093881Z"
    },
    "papermill": {
     "duration": 0.038224,
     "end_time": "2023-04-07T11:20:00.096848",
     "exception": false,
     "start_time": "2023-04-07T11:20:00.058624",
     "status": "completed"
    },
    "tags": []
   },
   "outputs": [
    {
     "data": {
      "text/html": [
       "<div>\n",
       "<style scoped>\n",
       "    .dataframe tbody tr th:only-of-type {\n",
       "        vertical-align: middle;\n",
       "    }\n",
       "\n",
       "    .dataframe tbody tr th {\n",
       "        vertical-align: top;\n",
       "    }\n",
       "\n",
       "    .dataframe thead th {\n",
       "        text-align: right;\n",
       "    }\n",
       "</style>\n",
       "<table border=\"1\" class=\"dataframe\">\n",
       "  <thead>\n",
       "    <tr style=\"text-align: right;\">\n",
       "      <th></th>\n",
       "      <th>Predict</th>\n",
       "      <th>Real price</th>\n",
       "    </tr>\n",
       "  </thead>\n",
       "  <tbody>\n",
       "    <tr>\n",
       "      <th>3982</th>\n",
       "      <td>55585.044790</td>\n",
       "      <td>46500</td>\n",
       "    </tr>\n",
       "    <tr>\n",
       "      <th>6289</th>\n",
       "      <td>26430.098488</td>\n",
       "      <td>37000</td>\n",
       "    </tr>\n",
       "    <tr>\n",
       "      <th>2576</th>\n",
       "      <td>64169.431220</td>\n",
       "      <td>85500</td>\n",
       "    </tr>\n",
       "    <tr>\n",
       "      <th>3116</th>\n",
       "      <td>35191.028562</td>\n",
       "      <td>36500</td>\n",
       "    </tr>\n",
       "    <tr>\n",
       "      <th>4187</th>\n",
       "      <td>147351.404623</td>\n",
       "      <td>285000</td>\n",
       "    </tr>\n",
       "    <tr>\n",
       "      <th>5091</th>\n",
       "      <td>19349.269199</td>\n",
       "      <td>23700</td>\n",
       "    </tr>\n",
       "    <tr>\n",
       "      <th>3533</th>\n",
       "      <td>64455.681368</td>\n",
       "      <td>56491</td>\n",
       "    </tr>\n",
       "    <tr>\n",
       "      <th>2974</th>\n",
       "      <td>117467.676477</td>\n",
       "      <td>120000</td>\n",
       "    </tr>\n",
       "    <tr>\n",
       "      <th>7042</th>\n",
       "      <td>38857.572838</td>\n",
       "      <td>44000</td>\n",
       "    </tr>\n",
       "    <tr>\n",
       "      <th>4672</th>\n",
       "      <td>48125.294356</td>\n",
       "      <td>40000</td>\n",
       "    </tr>\n",
       "  </tbody>\n",
       "</table>\n",
       "</div>"
      ],
      "text/plain": [
       "            Predict  Real price\n",
       "3982   55585.044790       46500\n",
       "6289   26430.098488       37000\n",
       "2576   64169.431220       85500\n",
       "3116   35191.028562       36500\n",
       "4187  147351.404623      285000\n",
       "5091   19349.269199       23700\n",
       "3533   64455.681368       56491\n",
       "2974  117467.676477      120000\n",
       "7042   38857.572838       44000\n",
       "4672   48125.294356       40000"
      ]
     },
     "execution_count": 59,
     "metadata": {},
     "output_type": "execute_result"
    }
   ],
   "source": [
    "pd.DataFrame({'Predict':predicted_data, 'Real price': test_label})"
   ]
  },
  {
   "cell_type": "markdown",
   "id": "dd464606",
   "metadata": {
    "papermill": {
     "duration": 0.025008,
     "end_time": "2023-04-07T11:20:00.147224",
     "exception": false,
     "start_time": "2023-04-07T11:20:00.122216",
     "status": "completed"
    },
    "tags": []
   },
   "source": [
    "<h1 style=\"color:white; padding: 20px; background-color: green; display:inline-block\">Let's evaluate the model.</h1>\n"
   ]
  },
  {
   "cell_type": "code",
   "execution_count": 60,
   "id": "6a731222",
   "metadata": {
    "execution": {
     "iopub.execute_input": "2023-04-07T11:20:00.199745Z",
     "iopub.status.busy": "2023-04-07T11:20:00.199125Z",
     "iopub.status.idle": "2023-04-07T11:20:00.215141Z",
     "shell.execute_reply": "2023-04-07T11:20:00.214116Z"
    },
    "papermill": {
     "duration": 0.044861,
     "end_time": "2023-04-07T11:20:00.217331",
     "exception": false,
     "start_time": "2023-04-07T11:20:00.172470",
     "status": "completed"
    },
    "tags": []
   },
   "outputs": [
    {
     "data": {
      "text/html": [
       "<div>\n",
       "<style scoped>\n",
       "    .dataframe tbody tr th:only-of-type {\n",
       "        vertical-align: middle;\n",
       "    }\n",
       "\n",
       "    .dataframe tbody tr th {\n",
       "        vertical-align: top;\n",
       "    }\n",
       "\n",
       "    .dataframe thead th {\n",
       "        text-align: right;\n",
       "    }\n",
       "</style>\n",
       "<table border=\"1\" class=\"dataframe\">\n",
       "  <thead>\n",
       "    <tr style=\"text-align: right;\">\n",
       "      <th></th>\n",
       "      <th>district</th>\n",
       "      <th>rooms</th>\n",
       "      <th>size</th>\n",
       "      <th>level</th>\n",
       "      <th>max_levels</th>\n",
       "      <th>price</th>\n",
       "    </tr>\n",
       "  </thead>\n",
       "  <tbody>\n",
       "    <tr>\n",
       "      <th>3867</th>\n",
       "      <td>Мирабадский</td>\n",
       "      <td>3</td>\n",
       "      <td>105.0</td>\n",
       "      <td>7</td>\n",
       "      <td>9</td>\n",
       "      <td>125000</td>\n",
       "    </tr>\n",
       "    <tr>\n",
       "      <th>264</th>\n",
       "      <td>Мирзо-Улугбекский</td>\n",
       "      <td>4</td>\n",
       "      <td>91.0</td>\n",
       "      <td>1</td>\n",
       "      <td>5</td>\n",
       "      <td>75000</td>\n",
       "    </tr>\n",
       "    <tr>\n",
       "      <th>2787</th>\n",
       "      <td>Мирабадский</td>\n",
       "      <td>4</td>\n",
       "      <td>100.0</td>\n",
       "      <td>7</td>\n",
       "      <td>9</td>\n",
       "      <td>105000</td>\n",
       "    </tr>\n",
       "    <tr>\n",
       "      <th>1253</th>\n",
       "      <td>Чиланзарский</td>\n",
       "      <td>4</td>\n",
       "      <td>100.0</td>\n",
       "      <td>9</td>\n",
       "      <td>9</td>\n",
       "      <td>48000</td>\n",
       "    </tr>\n",
       "    <tr>\n",
       "      <th>4707</th>\n",
       "      <td>Юнусабадский</td>\n",
       "      <td>2</td>\n",
       "      <td>55.0</td>\n",
       "      <td>1</td>\n",
       "      <td>9</td>\n",
       "      <td>41000</td>\n",
       "    </tr>\n",
       "    <tr>\n",
       "      <th>...</th>\n",
       "      <td>...</td>\n",
       "      <td>...</td>\n",
       "      <td>...</td>\n",
       "      <td>...</td>\n",
       "      <td>...</td>\n",
       "      <td>...</td>\n",
       "    </tr>\n",
       "    <tr>\n",
       "      <th>7481</th>\n",
       "      <td>Сергелийский</td>\n",
       "      <td>3</td>\n",
       "      <td>82.0</td>\n",
       "      <td>2</td>\n",
       "      <td>9</td>\n",
       "      <td>33000</td>\n",
       "    </tr>\n",
       "    <tr>\n",
       "      <th>1203</th>\n",
       "      <td>Чиланзарский</td>\n",
       "      <td>2</td>\n",
       "      <td>46.0</td>\n",
       "      <td>2</td>\n",
       "      <td>4</td>\n",
       "      <td>35000</td>\n",
       "    </tr>\n",
       "    <tr>\n",
       "      <th>2487</th>\n",
       "      <td>Чиланзарский</td>\n",
       "      <td>3</td>\n",
       "      <td>70.0</td>\n",
       "      <td>3</td>\n",
       "      <td>3</td>\n",
       "      <td>40000</td>\n",
       "    </tr>\n",
       "    <tr>\n",
       "      <th>7460</th>\n",
       "      <td>Сергелийский</td>\n",
       "      <td>3</td>\n",
       "      <td>78.0</td>\n",
       "      <td>5</td>\n",
       "      <td>5</td>\n",
       "      <td>42000</td>\n",
       "    </tr>\n",
       "    <tr>\n",
       "      <th>6627</th>\n",
       "      <td>Шайхантахурский</td>\n",
       "      <td>5</td>\n",
       "      <td>185.0</td>\n",
       "      <td>2</td>\n",
       "      <td>5</td>\n",
       "      <td>135000</td>\n",
       "    </tr>\n",
       "  </tbody>\n",
       "</table>\n",
       "<p>1366 rows × 6 columns</p>\n",
       "</div>"
      ],
      "text/plain": [
       "               district  rooms   size  level  max_levels   price\n",
       "3867        Мирабадский      3  105.0      7           9  125000\n",
       "264   Мирзо-Улугбекский      4   91.0      1           5   75000\n",
       "2787        Мирабадский      4  100.0      7           9  105000\n",
       "1253       Чиланзарский      4  100.0      9           9   48000\n",
       "4707       Юнусабадский      2   55.0      1           9   41000\n",
       "...                 ...    ...    ...    ...         ...     ...\n",
       "7481       Сергелийский      3   82.0      2           9   33000\n",
       "1203       Чиланзарский      2   46.0      2           4   35000\n",
       "2487       Чиланзарский      3   70.0      3           3   40000\n",
       "7460       Сергелийский      3   78.0      5           5   42000\n",
       "6627    Шайхантахурский      5  185.0      2           5  135000\n",
       "\n",
       "[1366 rows x 6 columns]"
      ]
     },
     "execution_count": 60,
     "metadata": {},
     "output_type": "execute_result"
    }
   ],
   "source": [
    "test_set = strat_test_set\n",
    "test_set"
   ]
  },
  {
   "cell_type": "markdown",
   "id": "d139ffb9",
   "metadata": {
    "papermill": {
     "duration": 0.025233,
     "end_time": "2023-04-07T11:20:00.268413",
     "exception": false,
     "start_time": "2023-04-07T11:20:00.243180",
     "status": "completed"
    },
    "tags": []
   },
   "source": [
    "First let's extract the predictor columns (all columns except `price`):"
   ]
  },
  {
   "cell_type": "code",
   "execution_count": 61,
   "id": "8c195202",
   "metadata": {
    "execution": {
     "iopub.execute_input": "2023-04-07T11:20:00.320530Z",
     "iopub.status.busy": "2023-04-07T11:20:00.320200Z",
     "iopub.status.idle": "2023-04-07T11:20:00.335758Z",
     "shell.execute_reply": "2023-04-07T11:20:00.334731Z"
    },
    "papermill": {
     "duration": 0.044186,
     "end_time": "2023-04-07T11:20:00.338034",
     "exception": false,
     "start_time": "2023-04-07T11:20:00.293848",
     "status": "completed"
    },
    "tags": []
   },
   "outputs": [
    {
     "data": {
      "text/html": [
       "<div>\n",
       "<style scoped>\n",
       "    .dataframe tbody tr th:only-of-type {\n",
       "        vertical-align: middle;\n",
       "    }\n",
       "\n",
       "    .dataframe tbody tr th {\n",
       "        vertical-align: top;\n",
       "    }\n",
       "\n",
       "    .dataframe thead th {\n",
       "        text-align: right;\n",
       "    }\n",
       "</style>\n",
       "<table border=\"1\" class=\"dataframe\">\n",
       "  <thead>\n",
       "    <tr style=\"text-align: right;\">\n",
       "      <th></th>\n",
       "      <th>district</th>\n",
       "      <th>rooms</th>\n",
       "      <th>size</th>\n",
       "      <th>level</th>\n",
       "      <th>max_levels</th>\n",
       "    </tr>\n",
       "  </thead>\n",
       "  <tbody>\n",
       "    <tr>\n",
       "      <th>3867</th>\n",
       "      <td>Мирабадский</td>\n",
       "      <td>3</td>\n",
       "      <td>105.0</td>\n",
       "      <td>7</td>\n",
       "      <td>9</td>\n",
       "    </tr>\n",
       "    <tr>\n",
       "      <th>264</th>\n",
       "      <td>Мирзо-Улугбекский</td>\n",
       "      <td>4</td>\n",
       "      <td>91.0</td>\n",
       "      <td>1</td>\n",
       "      <td>5</td>\n",
       "    </tr>\n",
       "    <tr>\n",
       "      <th>2787</th>\n",
       "      <td>Мирабадский</td>\n",
       "      <td>4</td>\n",
       "      <td>100.0</td>\n",
       "      <td>7</td>\n",
       "      <td>9</td>\n",
       "    </tr>\n",
       "    <tr>\n",
       "      <th>1253</th>\n",
       "      <td>Чиланзарский</td>\n",
       "      <td>4</td>\n",
       "      <td>100.0</td>\n",
       "      <td>9</td>\n",
       "      <td>9</td>\n",
       "    </tr>\n",
       "    <tr>\n",
       "      <th>4707</th>\n",
       "      <td>Юнусабадский</td>\n",
       "      <td>2</td>\n",
       "      <td>55.0</td>\n",
       "      <td>1</td>\n",
       "      <td>9</td>\n",
       "    </tr>\n",
       "    <tr>\n",
       "      <th>...</th>\n",
       "      <td>...</td>\n",
       "      <td>...</td>\n",
       "      <td>...</td>\n",
       "      <td>...</td>\n",
       "      <td>...</td>\n",
       "    </tr>\n",
       "    <tr>\n",
       "      <th>7481</th>\n",
       "      <td>Сергелийский</td>\n",
       "      <td>3</td>\n",
       "      <td>82.0</td>\n",
       "      <td>2</td>\n",
       "      <td>9</td>\n",
       "    </tr>\n",
       "    <tr>\n",
       "      <th>1203</th>\n",
       "      <td>Чиланзарский</td>\n",
       "      <td>2</td>\n",
       "      <td>46.0</td>\n",
       "      <td>2</td>\n",
       "      <td>4</td>\n",
       "    </tr>\n",
       "    <tr>\n",
       "      <th>2487</th>\n",
       "      <td>Чиланзарский</td>\n",
       "      <td>3</td>\n",
       "      <td>70.0</td>\n",
       "      <td>3</td>\n",
       "      <td>3</td>\n",
       "    </tr>\n",
       "    <tr>\n",
       "      <th>7460</th>\n",
       "      <td>Сергелийский</td>\n",
       "      <td>3</td>\n",
       "      <td>78.0</td>\n",
       "      <td>5</td>\n",
       "      <td>5</td>\n",
       "    </tr>\n",
       "    <tr>\n",
       "      <th>6627</th>\n",
       "      <td>Шайхантахурский</td>\n",
       "      <td>5</td>\n",
       "      <td>185.0</td>\n",
       "      <td>2</td>\n",
       "      <td>5</td>\n",
       "    </tr>\n",
       "  </tbody>\n",
       "</table>\n",
       "<p>1366 rows × 5 columns</p>\n",
       "</div>"
      ],
      "text/plain": [
       "               district  rooms   size  level  max_levels\n",
       "3867        Мирабадский      3  105.0      7           9\n",
       "264   Мирзо-Улугбекский      4   91.0      1           5\n",
       "2787        Мирабадский      4  100.0      7           9\n",
       "1253       Чиланзарский      4  100.0      9           9\n",
       "4707       Юнусабадский      2   55.0      1           9\n",
       "...                 ...    ...    ...    ...         ...\n",
       "7481       Сергелийский      3   82.0      2           9\n",
       "1203       Чиланзарский      2   46.0      2           4\n",
       "2487       Чиланзарский      3   70.0      3           3\n",
       "7460       Сергелийский      3   78.0      5           5\n",
       "6627    Шайхантахурский      5  185.0      2           5\n",
       "\n",
       "[1366 rows x 5 columns]"
      ]
     },
     "execution_count": 61,
     "metadata": {},
     "output_type": "execute_result"
    }
   ],
   "source": [
    "X_test = test_set.drop('price', axis=1)\n",
    "X_test"
   ]
  },
  {
   "cell_type": "code",
   "execution_count": 62,
   "id": "6e519031",
   "metadata": {
    "execution": {
     "iopub.execute_input": "2023-04-07T11:20:00.391633Z",
     "iopub.status.busy": "2023-04-07T11:20:00.390684Z",
     "iopub.status.idle": "2023-04-07T11:20:00.398582Z",
     "shell.execute_reply": "2023-04-07T11:20:00.397618Z"
    },
    "papermill": {
     "duration": 0.036488,
     "end_time": "2023-04-07T11:20:00.400686",
     "exception": false,
     "start_time": "2023-04-07T11:20:00.364198",
     "status": "completed"
    },
    "tags": []
   },
   "outputs": [
    {
     "data": {
      "text/plain": [
       "3867    125000\n",
       "264      75000\n",
       "2787    105000\n",
       "1253     48000\n",
       "4707     41000\n",
       "         ...  \n",
       "7481     33000\n",
       "1203     35000\n",
       "2487     40000\n",
       "7460     42000\n",
       "6627    135000\n",
       "Name: price, Length: 1366, dtype: int64"
      ]
     },
     "execution_count": 62,
     "metadata": {},
     "output_type": "execute_result"
    }
   ],
   "source": [
    "y_test = test_set['price'].copy()\n",
    "y_test"
   ]
  },
  {
   "cell_type": "markdown",
   "id": "76a0a9f5",
   "metadata": {
    "papermill": {
     "duration": 0.026263,
     "end_time": "2023-04-07T11:20:00.452569",
     "exception": false,
     "start_time": "2023-04-07T11:20:00.426306",
     "status": "completed"
    },
    "tags": []
   },
   "source": [
    "We also pass **test_set** through the *pipeline:*"
   ]
  },
  {
   "cell_type": "code",
   "execution_count": 63,
   "id": "229478f2",
   "metadata": {
    "execution": {
     "iopub.execute_input": "2023-04-07T11:20:00.505806Z",
     "iopub.status.busy": "2023-04-07T11:20:00.505164Z",
     "iopub.status.idle": "2023-04-07T11:20:00.515507Z",
     "shell.execute_reply": "2023-04-07T11:20:00.514584Z"
    },
    "papermill": {
     "duration": 0.039436,
     "end_time": "2023-04-07T11:20:00.517561",
     "exception": false,
     "start_time": "2023-04-07T11:20:00.478125",
     "status": "completed"
    },
    "tags": []
   },
   "outputs": [],
   "source": [
    "X_test_prepared = full_pipeline.transform(X_test)"
   ]
  },
  {
   "cell_type": "markdown",
   "id": "fce65a53",
   "metadata": {
    "papermill": {
     "duration": 0.025373,
     "end_time": "2023-04-07T11:20:00.568940",
     "exception": false,
     "start_time": "2023-04-07T11:20:00.543567",
     "status": "completed"
    },
    "tags": []
   },
   "source": [
    "Predict"
   ]
  },
  {
   "cell_type": "code",
   "execution_count": 64,
   "id": "3821248d",
   "metadata": {
    "execution": {
     "iopub.execute_input": "2023-04-07T11:20:00.621564Z",
     "iopub.status.busy": "2023-04-07T11:20:00.621243Z",
     "iopub.status.idle": "2023-04-07T11:20:00.630131Z",
     "shell.execute_reply": "2023-04-07T11:20:00.629022Z"
    },
    "papermill": {
     "duration": 0.039058,
     "end_time": "2023-04-07T11:20:00.633571",
     "exception": false,
     "start_time": "2023-04-07T11:20:00.594513",
     "status": "completed"
    },
    "tags": []
   },
   "outputs": [],
   "source": [
    "y_predicted = LR_model.predict(X_test_prepared)"
   ]
  },
  {
   "cell_type": "markdown",
   "id": "2f679857",
   "metadata": {
    "papermill": {
     "duration": 0.060611,
     "end_time": "2023-04-07T11:20:00.761106",
     "exception": false,
     "start_time": "2023-04-07T11:20:00.700495",
     "status": "completed"
    },
    "tags": []
   },
   "source": [
    "We use the Root mean square error (RMSE) we saw in the previous section to compare the forecast and real data:"
   ]
  },
  {
   "cell_type": "code",
   "execution_count": 65,
   "id": "04285946",
   "metadata": {
    "execution": {
     "iopub.execute_input": "2023-04-07T11:20:00.815467Z",
     "iopub.status.busy": "2023-04-07T11:20:00.814721Z",
     "iopub.status.idle": "2023-04-07T11:20:00.821386Z",
     "shell.execute_reply": "2023-04-07T11:20:00.820087Z"
    },
    "papermill": {
     "duration": 0.036446,
     "end_time": "2023-04-07T11:20:00.824065",
     "exception": false,
     "start_time": "2023-04-07T11:20:00.787619",
     "status": "completed"
    },
    "tags": []
   },
   "outputs": [
    {
     "name": "stdout",
     "output_type": "stream",
     "text": [
      "24892.907691861477\n"
     ]
    }
   ],
   "source": [
    "from sklearn.metrics import mean_squared_error\n",
    "lin_mse = mean_squared_error(y_test, y_predicted)\n",
    "# RMSE hisoblaymiz\n",
    "lin_rmse = np.sqrt(lin_mse)\n",
    "print(lin_rmse)"
   ]
  },
  {
   "cell_type": "markdown",
   "id": "1b76b5fb",
   "metadata": {
    "papermill": {
     "duration": 0.02605,
     "end_time": "2023-04-07T11:20:00.875915",
     "exception": false,
     "start_time": "2023-04-07T11:20:00.849865",
     "status": "completed"
    },
    "tags": []
   },
   "source": [
    "<h1>DecisionTree</h1>"
   ]
  },
  {
   "cell_type": "code",
   "execution_count": 66,
   "id": "66e2caa2",
   "metadata": {
    "execution": {
     "iopub.execute_input": "2023-04-07T11:20:00.929212Z",
     "iopub.status.busy": "2023-04-07T11:20:00.928249Z",
     "iopub.status.idle": "2023-04-07T11:20:00.983858Z",
     "shell.execute_reply": "2023-04-07T11:20:00.982727Z"
    },
    "papermill": {
     "duration": 0.084596,
     "end_time": "2023-04-07T11:20:00.986152",
     "exception": false,
     "start_time": "2023-04-07T11:20:00.901556",
     "status": "completed"
    },
    "tags": []
   },
   "outputs": [
    {
     "data": {
      "text/plain": [
       "DecisionTreeRegressor()"
      ]
     },
     "execution_count": 66,
     "metadata": {},
     "output_type": "execute_result"
    }
   ],
   "source": [
    "from sklearn.tree import DecisionTreeRegressor\n",
    "Tree_model = DecisionTreeRegressor()\n",
    "Tree_model.fit(housing_prepared, housing_labels)"
   ]
  },
  {
   "cell_type": "code",
   "execution_count": 67,
   "id": "32fdfb03",
   "metadata": {
    "execution": {
     "iopub.execute_input": "2023-04-07T11:20:01.039484Z",
     "iopub.status.busy": "2023-04-07T11:20:01.039194Z",
     "iopub.status.idle": "2023-04-07T11:20:01.044408Z",
     "shell.execute_reply": "2023-04-07T11:20:01.043413Z"
    },
    "papermill": {
     "duration": 0.03439,
     "end_time": "2023-04-07T11:20:01.046458",
     "exception": false,
     "start_time": "2023-04-07T11:20:01.012068",
     "status": "completed"
    },
    "tags": []
   },
   "outputs": [],
   "source": [
    "y_predicted = Tree_model.predict(X_test_prepared)"
   ]
  },
  {
   "cell_type": "code",
   "execution_count": 68,
   "id": "a3e3f8b3",
   "metadata": {
    "execution": {
     "iopub.execute_input": "2023-04-07T11:20:01.100252Z",
     "iopub.status.busy": "2023-04-07T11:20:01.099431Z",
     "iopub.status.idle": "2023-04-07T11:20:01.106411Z",
     "shell.execute_reply": "2023-04-07T11:20:01.105146Z"
    },
    "papermill": {
     "duration": 0.035836,
     "end_time": "2023-04-07T11:20:01.108548",
     "exception": false,
     "start_time": "2023-04-07T11:20:01.072712",
     "status": "completed"
    },
    "tags": []
   },
   "outputs": [
    {
     "name": "stdout",
     "output_type": "stream",
     "text": [
      "31946.49201876335\n"
     ]
    }
   ],
   "source": [
    "lin_mse = mean_squared_error(y_test, y_predicted)\n",
    "# RMSE hisoblaymiz\n",
    "lin_rmse = np.sqrt(lin_mse)\n",
    "print(lin_rmse)"
   ]
  },
  {
   "cell_type": "markdown",
   "id": "5fcd4004",
   "metadata": {
    "papermill": {
     "duration": 0.025622,
     "end_time": "2023-04-07T11:20:01.159969",
     "exception": false,
     "start_time": "2023-04-07T11:20:01.134347",
     "status": "completed"
    },
    "tags": []
   },
   "source": [
    "<h1>RandomForest</h1>"
   ]
  },
  {
   "cell_type": "code",
   "execution_count": 69,
   "id": "1461a3a5",
   "metadata": {
    "execution": {
     "iopub.execute_input": "2023-04-07T11:20:01.213599Z",
     "iopub.status.busy": "2023-04-07T11:20:01.213026Z",
     "iopub.status.idle": "2023-04-07T11:20:02.287515Z",
     "shell.execute_reply": "2023-04-07T11:20:02.286582Z"
    },
    "papermill": {
     "duration": 1.103686,
     "end_time": "2023-04-07T11:20:02.289678",
     "exception": false,
     "start_time": "2023-04-07T11:20:01.185992",
     "status": "completed"
    },
    "tags": []
   },
   "outputs": [
    {
     "data": {
      "text/plain": [
       "RandomForestRegressor()"
      ]
     },
     "execution_count": 69,
     "metadata": {},
     "output_type": "execute_result"
    }
   ],
   "source": [
    "from sklearn.ensemble import RandomForestRegressor\n",
    "RF_model = RandomForestRegressor()\n",
    "RF_model.fit(housing_prepared, housing_labels)"
   ]
  },
  {
   "cell_type": "code",
   "execution_count": 70,
   "id": "8655b78d",
   "metadata": {
    "execution": {
     "iopub.execute_input": "2023-04-07T11:20:02.344238Z",
     "iopub.status.busy": "2023-04-07T11:20:02.343308Z",
     "iopub.status.idle": "2023-04-07T11:20:02.389796Z",
     "shell.execute_reply": "2023-04-07T11:20:02.388856Z"
    },
    "papermill": {
     "duration": 0.076001,
     "end_time": "2023-04-07T11:20:02.392187",
     "exception": false,
     "start_time": "2023-04-07T11:20:02.316186",
     "status": "completed"
    },
    "tags": []
   },
   "outputs": [
    {
     "name": "stdout",
     "output_type": "stream",
     "text": [
      "23904.227051353788\n"
     ]
    }
   ],
   "source": [
    "y_predicted = RF_model.predict(X_test_prepared)\n",
    "lin_mse = mean_squared_error(y_test, y_predicted)\n",
    "# RMSE hisoblaymiz\n",
    "lin_rmse = np.sqrt(lin_mse)\n",
    "print(lin_rmse)"
   ]
  },
  {
   "cell_type": "markdown",
   "id": "f3b29084",
   "metadata": {
    "papermill": {
     "duration": 0.028101,
     "end_time": "2023-04-07T11:20:02.446035",
     "exception": false,
     "start_time": "2023-04-07T11:20:02.417934",
     "status": "completed"
    },
    "tags": []
   },
   "source": [
    "<h1 style=\"color:white; padding: 20px; background-color: green; display:inline-block\">Saving model</h1>"
   ]
  },
  {
   "cell_type": "code",
   "execution_count": 71,
   "id": "0e3dd45e",
   "metadata": {
    "execution": {
     "iopub.execute_input": "2023-04-07T11:20:02.558850Z",
     "iopub.status.busy": "2023-04-07T11:20:02.557678Z",
     "iopub.status.idle": "2023-04-07T11:20:02.634582Z",
     "shell.execute_reply": "2023-04-07T11:20:02.632224Z"
    },
    "papermill": {
     "duration": 0.13705,
     "end_time": "2023-04-07T11:20:02.639629",
     "exception": false,
     "start_time": "2023-04-07T11:20:02.502579",
     "status": "completed"
    },
    "tags": []
   },
   "outputs": [],
   "source": [
    "import pickle\n",
    "\n",
    "filename = 'RF_model.pkl' # faylga istalgan nom beramiz\n",
    "with open(filename, 'wb') as file:\n",
    "    pickle.dump(RF_model, file)"
   ]
  },
  {
   "cell_type": "code",
   "execution_count": 72,
   "id": "12eaac85",
   "metadata": {
    "execution": {
     "iopub.execute_input": "2023-04-07T11:20:02.694329Z",
     "iopub.status.busy": "2023-04-07T11:20:02.694005Z",
     "iopub.status.idle": "2023-04-07T11:20:02.775809Z",
     "shell.execute_reply": "2023-04-07T11:20:02.774846Z"
    },
    "papermill": {
     "duration": 0.111418,
     "end_time": "2023-04-07T11:20:02.778156",
     "exception": false,
     "start_time": "2023-04-07T11:20:02.666738",
     "status": "completed"
    },
    "tags": []
   },
   "outputs": [
    {
     "data": {
      "text/plain": [
       "['RF_model.jbl']"
      ]
     },
     "execution_count": 72,
     "metadata": {},
     "output_type": "execute_result"
    }
   ],
   "source": [
    "import joblib\n",
    "\n",
    "filename = 'RF_model.jbl' # faylga istalgan nom beramiz\n",
    "joblib.dump(RF_model, filename)"
   ]
  },
  {
   "cell_type": "markdown",
   "id": "24b0ce68",
   "metadata": {
    "papermill": {
     "duration": 0.026243,
     "end_time": "2023-04-07T11:20:02.832450",
     "exception": false,
     "start_time": "2023-04-07T11:20:02.806207",
     "status": "completed"
    },
    "tags": []
   },
   "source": [
    "<h1 style=\"color:white; padding: 20px; background-color: blue;\">That's it. Thank you for your attention</h1>"
   ]
  }
 ],
 "metadata": {
  "kernelspec": {
   "display_name": "Python 3",
   "language": "python",
   "name": "python3"
  },
  "language_info": {
   "codemirror_mode": {
    "name": "ipython",
    "version": 3
   },
   "file_extension": ".py",
   "mimetype": "text/x-python",
   "name": "python",
   "nbconvert_exporter": "python",
   "pygments_lexer": "ipython3",
   "version": "3.7.12"
  },
  "papermill": {
   "default_parameters": {},
   "duration": 20.594564,
   "end_time": "2023-04-07T11:20:03.479074",
   "environment_variables": {},
   "exception": null,
   "input_path": "__notebook__.ipynb",
   "output_path": "__notebook__.ipynb",
   "parameters": {},
   "start_time": "2023-04-07T11:19:42.884510",
   "version": "2.4.0"
  }
 },
 "nbformat": 4,
 "nbformat_minor": 5
}
